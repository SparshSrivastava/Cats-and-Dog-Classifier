{
  "nbformat": 4,
  "nbformat_minor": 0,
  "metadata": {
    "colab": {
      "name": "Cats and Dog Classifier Transfer Learning.ipynb",
      "provenance": [],
      "collapsed_sections": [],
      "machine_shape": "hm",
      "authorship_tag": "ABX9TyMQhcjsCl8u8Yfp2pEHI6I4"
    },
    "kernelspec": {
      "name": "python3",
      "display_name": "Python 3"
    },
    "accelerator": "GPU"
  },
  "cells": [
    {
      "cell_type": "code",
      "metadata": {
        "id": "XQrXTDOCRojG",
        "colab_type": "code",
        "outputId": "b18f48cf-b38f-473e-8d2e-5b28794d648e",
        "colab": {
          "base_uri": "https://localhost:8080/",
          "height": 570
        }
      },
      "source": [
        "!pip install tensorflow-gpu==2.0.0-rc0"
      ],
      "execution_count": 0,
      "outputs": [
        {
          "output_type": "stream",
          "text": [
            "Collecting tensorflow-gpu==2.0.0-rc0\n",
            "\u001b[?25l  Downloading https://files.pythonhosted.org/packages/6a/12/8c64cc62149cc21c70c55018502831bbf4d42bd62bed196df7de6830d21b/tensorflow_gpu-2.0.0rc0-cp36-cp36m-manylinux2010_x86_64.whl (380.5MB)\n",
            "\u001b[K     |████████████████████████████████| 380.5MB 42kB/s \n",
            "\u001b[?25hRequirement already satisfied: six>=1.10.0 in /usr/local/lib/python3.6/dist-packages (from tensorflow-gpu==2.0.0-rc0) (1.12.0)\n",
            "Requirement already satisfied: opt-einsum>=2.3.2 in /usr/local/lib/python3.6/dist-packages (from tensorflow-gpu==2.0.0-rc0) (3.1.0)\n",
            "Requirement already satisfied: gast>=0.2.0 in /usr/local/lib/python3.6/dist-packages (from tensorflow-gpu==2.0.0-rc0) (0.2.2)\n",
            "Collecting tf-estimator-nightly<1.14.0.dev2019080602,>=1.14.0.dev2019080601\n",
            "\u001b[?25l  Downloading https://files.pythonhosted.org/packages/21/28/f2a27a62943d5f041e4a6fd404b2d21cb7c59b2242a4e73b03d9ba166552/tf_estimator_nightly-1.14.0.dev2019080601-py2.py3-none-any.whl (501kB)\n",
            "\u001b[K     |████████████████████████████████| 501kB 9.7MB/s \n",
            "\u001b[?25hRequirement already satisfied: absl-py>=0.7.0 in /usr/local/lib/python3.6/dist-packages (from tensorflow-gpu==2.0.0-rc0) (0.9.0)\n",
            "Requirement already satisfied: termcolor>=1.1.0 in /usr/local/lib/python3.6/dist-packages (from tensorflow-gpu==2.0.0-rc0) (1.1.0)\n",
            "Requirement already satisfied: numpy<2.0,>=1.16.0 in /usr/local/lib/python3.6/dist-packages (from tensorflow-gpu==2.0.0-rc0) (1.17.5)\n",
            "Requirement already satisfied: keras-applications>=1.0.8 in /usr/local/lib/python3.6/dist-packages (from tensorflow-gpu==2.0.0-rc0) (1.0.8)\n",
            "Requirement already satisfied: protobuf>=3.6.1 in /usr/local/lib/python3.6/dist-packages (from tensorflow-gpu==2.0.0-rc0) (3.10.0)\n",
            "Requirement already satisfied: wheel>=0.26 in /usr/local/lib/python3.6/dist-packages (from tensorflow-gpu==2.0.0-rc0) (0.33.6)\n",
            "Requirement already satisfied: grpcio>=1.8.6 in /usr/local/lib/python3.6/dist-packages (from tensorflow-gpu==2.0.0-rc0) (1.15.0)\n",
            "Requirement already satisfied: astor>=0.6.0 in /usr/local/lib/python3.6/dist-packages (from tensorflow-gpu==2.0.0-rc0) (0.8.1)\n",
            "Requirement already satisfied: wrapt>=1.11.1 in /usr/local/lib/python3.6/dist-packages (from tensorflow-gpu==2.0.0-rc0) (1.11.2)\n",
            "Requirement already satisfied: keras-preprocessing>=1.0.5 in /usr/local/lib/python3.6/dist-packages (from tensorflow-gpu==2.0.0-rc0) (1.1.0)\n",
            "Collecting tb-nightly<1.15.0a20190807,>=1.15.0a20190806\n",
            "\u001b[?25l  Downloading https://files.pythonhosted.org/packages/bc/88/24b5fb7280e74c7cf65bde47c171547fd02afb3840cff41bcbe9270650f5/tb_nightly-1.15.0a20190806-py3-none-any.whl (4.3MB)\n",
            "\u001b[K     |████████████████████████████████| 4.3MB 62.2MB/s \n",
            "\u001b[?25hRequirement already satisfied: google-pasta>=0.1.6 in /usr/local/lib/python3.6/dist-packages (from tensorflow-gpu==2.0.0-rc0) (0.1.8)\n",
            "Requirement already satisfied: h5py in /usr/local/lib/python3.6/dist-packages (from keras-applications>=1.0.8->tensorflow-gpu==2.0.0-rc0) (2.8.0)\n",
            "Requirement already satisfied: setuptools in /usr/local/lib/python3.6/dist-packages (from protobuf>=3.6.1->tensorflow-gpu==2.0.0-rc0) (42.0.2)\n",
            "Requirement already satisfied: werkzeug>=0.11.15 in /usr/local/lib/python3.6/dist-packages (from tb-nightly<1.15.0a20190807,>=1.15.0a20190806->tensorflow-gpu==2.0.0-rc0) (0.16.0)\n",
            "Requirement already satisfied: markdown>=2.6.8 in /usr/local/lib/python3.6/dist-packages (from tb-nightly<1.15.0a20190807,>=1.15.0a20190806->tensorflow-gpu==2.0.0-rc0) (3.1.1)\n",
            "Installing collected packages: tf-estimator-nightly, tb-nightly, tensorflow-gpu\n",
            "Successfully installed tb-nightly-1.15.0a20190806 tensorflow-gpu-2.0.0rc0 tf-estimator-nightly-1.14.0.dev2019080601\n"
          ],
          "name": "stdout"
        }
      ]
    },
    {
      "cell_type": "code",
      "metadata": {
        "id": "bif5QfKnPkwU",
        "colab_type": "code",
        "colab": {}
      },
      "source": [
        "!pip install -q kaggle"
      ],
      "execution_count": 0,
      "outputs": []
    },
    {
      "cell_type": "code",
      "metadata": {
        "id": "ZF8CrU8aP6Z8",
        "colab_type": "code",
        "colab": {}
      },
      "source": [
        "!mkdir -p ~/.kaggle"
      ],
      "execution_count": 0,
      "outputs": []
    },
    {
      "cell_type": "code",
      "metadata": {
        "id": "ryheh4dORz7J",
        "colab_type": "code",
        "colab": {}
      },
      "source": [
        "!cp kaggle.json ~/.kaggle/"
      ],
      "execution_count": 0,
      "outputs": []
    },
    {
      "cell_type": "code",
      "metadata": {
        "id": "IxFtS6VbR9f9",
        "colab_type": "code",
        "colab": {}
      },
      "source": [
        "!chmod 600 ~/.kaggle/kaggle.json"
      ],
      "execution_count": 0,
      "outputs": []
    },
    {
      "cell_type": "code",
      "metadata": {
        "id": "2K1Zd1hiSIHo",
        "colab_type": "code",
        "outputId": "131789ff-0dde-4837-ee79-0febf609ef65",
        "colab": {
          "base_uri": "https://localhost:8080/",
          "height": 201
        }
      },
      "source": [
        "!kaggle competitions download -c dogs-vs-cats"
      ],
      "execution_count": 0,
      "outputs": [
        {
          "output_type": "stream",
          "text": [
            "Warning: Looks like you're using an outdated API Version, please consider updating (server 1.5.6 / client 1.5.4)\n",
            "Downloading test1.zip to /content\n",
            " 98% 267M/271M [00:07<00:00, 54.7MB/s]\n",
            "100% 271M/271M [00:07<00:00, 38.0MB/s]\n",
            "Downloading train.zip to /content\n",
            " 99% 537M/543M [00:08<00:00, 66.1MB/s]\n",
            "100% 543M/543M [00:08<00:00, 65.9MB/s]\n",
            "Downloading sampleSubmission.csv to /content\n",
            "  0% 0.00/86.8k [00:00<?, ?B/s]\n",
            "100% 86.8k/86.8k [00:00<00:00, 73.6MB/s]\n"
          ],
          "name": "stdout"
        }
      ]
    },
    {
      "cell_type": "code",
      "metadata": {
        "id": "o9LGbKkKjkLs",
        "colab_type": "code",
        "outputId": "0699c008-b6bf-4b03-cd26-33eedf7686c9",
        "colab": {
          "base_uri": "https://localhost:8080/",
          "height": 129
        }
      },
      "source": [
        "from google.colab import drive\n",
        "drive.mount('/content/drive')"
      ],
      "execution_count": 0,
      "outputs": [
        {
          "output_type": "stream",
          "text": [
            "Go to this URL in a browser: https://accounts.google.com/o/oauth2/auth?client_id=947318989803-6bn6qk8qdgf4n4g3pfee6491hc0brc4i.apps.googleusercontent.com&redirect_uri=urn%3aietf%3awg%3aoauth%3a2.0%3aoob&response_type=code&scope=email%20https%3a%2f%2fwww.googleapis.com%2fauth%2fdocs.test%20https%3a%2f%2fwww.googleapis.com%2fauth%2fdrive%20https%3a%2f%2fwww.googleapis.com%2fauth%2fdrive.photos.readonly%20https%3a%2f%2fwww.googleapis.com%2fauth%2fpeopleapi.readonly\n",
            "\n",
            "Enter your authorization code:\n",
            "··········\n",
            "Mounted at /content/drive\n"
          ],
          "name": "stdout"
        }
      ]
    },
    {
      "cell_type": "code",
      "metadata": {
        "id": "LvTCt_RZSYG3",
        "colab_type": "code",
        "outputId": "ced8d536-e41d-499f-cb2f-38268425dfde",
        "colab": {
          "base_uri": "https://localhost:8080/",
          "height": 35
        }
      },
      "source": [
        "import os\n",
        "print(os.listdir('.'))"
      ],
      "execution_count": 0,
      "outputs": [
        {
          "output_type": "stream",
          "text": [
            "['.config', 'sampleSubmission.csv', 'test1.zip', 'train.zip', 'kaggle.json', 'drive', 'sample_data']\n"
          ],
          "name": "stdout"
        }
      ]
    },
    {
      "cell_type": "code",
      "metadata": {
        "id": "0_uxsW5LSaZf",
        "colab_type": "code",
        "colab": {}
      },
      "source": [
        "import zipfile\n",
        "zip_ref = zipfile.ZipFile('train.zip', 'r')\n",
        "zip_ref.extractall(\"/data\")\n",
        "zip_ref.close()"
      ],
      "execution_count": 0,
      "outputs": []
    },
    {
      "cell_type": "code",
      "metadata": {
        "id": "z2W3swumScSy",
        "colab_type": "code",
        "outputId": "5e2934fd-29ac-4afb-addf-302841e0d2df",
        "colab": {
          "base_uri": "https://localhost:8080/",
          "height": 35
        }
      },
      "source": [
        "os.listdir('/data')"
      ],
      "execution_count": 0,
      "outputs": [
        {
          "output_type": "execute_result",
          "data": {
            "text/plain": [
              "['train']"
            ]
          },
          "metadata": {
            "tags": []
          },
          "execution_count": 10
        }
      ]
    },
    {
      "cell_type": "code",
      "metadata": {
        "id": "9KKNdxtAZc-a",
        "colab_type": "code",
        "outputId": "7f92487f-e338-4a70-f9d4-98b215725c18",
        "colab": {
          "base_uri": "https://localhost:8080/",
          "height": 35
        }
      },
      "source": [
        "my_path = '/data/train/'\n",
        "filename = [f for f in os.listdir(my_path) if f if os.path.isfile(os.path.join(my_path, f))]\n",
        "print(len(filename))"
      ],
      "execution_count": 0,
      "outputs": [
        {
          "output_type": "stream",
          "text": [
            "25000\n"
          ],
          "name": "stdout"
        }
      ]
    },
    {
      "cell_type": "markdown",
      "metadata": {
        "id": "0ICVqSSfZdCu",
        "colab_type": "text"
      },
      "source": [
        "**Exporting the data to folders**"
      ]
    },
    {
      "cell_type": "code",
      "metadata": {
        "id": "vNsRsdVaVYhj",
        "colab_type": "code",
        "colab": {}
      },
      "source": [
        "dogs_train_data = '/data/training/dogs/'\n",
        "dogs_validation_data = '/data/validation/dogs/'\n",
        "cats_train_data = '/data/training/cats/'\n",
        "cats_validation_data = '/data/validation/cats/'"
      ],
      "execution_count": 0,
      "outputs": []
    },
    {
      "cell_type": "code",
      "metadata": {
        "id": "QbSLtUBohpMZ",
        "colab_type": "code",
        "colab": {}
      },
      "source": [
        "import shutil\n",
        "import cv2\n",
        "import matplotlib.pyplot as plt"
      ],
      "execution_count": 0,
      "outputs": []
    },
    {
      "cell_type": "code",
      "metadata": {
        "id": "71acIya1ZdK1",
        "colab_type": "code",
        "colab": {}
      },
      "source": [
        "def make_dir(directory):\n",
        "  if(os.path.exists(directory)):\n",
        "    shutil.rmtree(directory)\n",
        "  os.makedirs(directory)"
      ],
      "execution_count": 0,
      "outputs": []
    },
    {
      "cell_type": "code",
      "metadata": {
        "id": "mqQM0Xt-h2II",
        "colab_type": "code",
        "colab": {}
      },
      "source": [
        "make_dir(dogs_train_data)\n",
        "make_dir(dogs_validation_data)\n",
        "make_dir(cats_train_data)\n",
        "make_dir(cats_validation_data)"
      ],
      "execution_count": 0,
      "outputs": []
    },
    {
      "cell_type": "code",
      "metadata": {
        "id": "cXg8PEJuh_EP",
        "colab_type": "code",
        "outputId": "77c68578-acc9-4e03-ec9b-4a782624b54f",
        "colab": {
          "base_uri": "https://localhost:8080/",
          "height": 54
        }
      },
      "source": [
        "print(os.listdir('/data/training/'))\n",
        "print(os.listdir('/data/validation/'))"
      ],
      "execution_count": 0,
      "outputs": [
        {
          "output_type": "stream",
          "text": [
            "['dogs', 'cats']\n",
            "['dogs', 'cats']\n"
          ],
          "name": "stdout"
        }
      ]
    },
    {
      "cell_type": "code",
      "metadata": {
        "id": "pLTCsPXddtrv",
        "colab_type": "code",
        "colab": {}
      },
      "source": [
        "training_size = 10000\n",
        "validation_size = 2500\n",
        "training_images = []\n",
        "training_labels = []\n",
        "validation_images = []\n",
        "validation_labels = []\n",
        "size = 200\n",
        "dogs_cnt = 0\n",
        "cats_cnt = 0"
      ],
      "execution_count": 0,
      "outputs": []
    },
    {
      "cell_type": "code",
      "metadata": {
        "id": "m_nkyz6PjPyj",
        "colab_type": "code",
        "colab": {}
      },
      "source": [
        "for i, file in enumerate(filename):\n",
        "    if filename[i][0] == 'd':\n",
        "        dogs_cnt += 1\n",
        "        image = cv2.imread(my_path + file)\n",
        "        image = cv2.resize(image, (size, size))\n",
        "        if dogs_cnt < training_size:\n",
        "            training_images.append(image)\n",
        "            training_labels.append(1)\n",
        "            cv2.imwrite(dogs_train_data + \"dog\" + str(dogs_cnt) + \".jpg\", image)\n",
        "        \n",
        "        if dogs_cnt > training_size and dogs_cnt <= (training_size + validation_size):\n",
        "            validation_images.append(image)\n",
        "            validation_labels.append(1)\n",
        "            cv2.imwrite(dogs_validation_data + \"dog\" + str(dogs_cnt - training_size) + \".jpg\", image)\n",
        "    \n",
        "    if filename[i][0] == 'c':\n",
        "        cats_cnt += 1\n",
        "        image = cv2.imread(my_path + file)\n",
        "        image = cv2.resize(image, (size, size))\n",
        "        if cats_cnt < training_size:\n",
        "            training_images.append(image)\n",
        "            training_labels.append(1)\n",
        "            cv2.imwrite(cats_train_data + \"cats\" + str(cats_cnt)+\".jpg\", image)\n",
        "        \n",
        "        if cats_cnt > training_size and cats_cnt <= (training_size + validation_size):\n",
        "            validation_images.append(image)\n",
        "            validation_labels.append(1)\n",
        "            cv2.imwrite(cats_validation_data + \"cats\" + str(cats_cnt - training_size)+\".jpg\", image)\n",
        "    \n",
        "    if dogs_cnt == training_size + validation_size and cats_cnt == training_size + validation_size:\n",
        "        break"
      ],
      "execution_count": 0,
      "outputs": []
    },
    {
      "cell_type": "code",
      "metadata": {
        "id": "HoFI8PiYZdR2",
        "colab_type": "code",
        "outputId": "5fbaac15-1110-42cd-d126-fc9bddc6a11b",
        "colab": {
          "base_uri": "https://localhost:8080/",
          "height": 287
        }
      },
      "source": [
        "import matplotlib.image as mimg\n",
        "plt.imshow(plt.imread('/data/training/dogs/dog5728.jpg'))"
      ],
      "execution_count": 0,
      "outputs": [
        {
          "output_type": "execute_result",
          "data": {
            "text/plain": [
              "<matplotlib.image.AxesImage at 0x7f6b693009e8>"
            ]
          },
          "metadata": {
            "tags": []
          },
          "execution_count": 26
        },
        {
          "output_type": "display_data",
          "data": {
            "image/png": "[encoded data removed]",
            "text/plain": [
              "<Figure size 432x288 with 1 Axes>"
            ]
          },
          "metadata": {
            "tags": []
          }
        }
      ]
    },
    {
      "cell_type": "markdown",
      "metadata": {
        "id": "BmbjcWR8ULrz",
        "colab_type": "text"
      },
      "source": [
        "**Splitting the data into training and validation**"
      ]
    },
    {
      "cell_type": "code",
      "metadata": {
        "id": "mpo_7JAUgOFE",
        "colab_type": "code",
        "colab": {}
      },
      "source": [
        "import numpy as np"
      ],
      "execution_count": 0,
      "outputs": []
    },
    {
      "cell_type": "code",
      "metadata": {
        "id": "Ruq7JDquT2cS",
        "colab_type": "code",
        "outputId": "c5705d69-47aa-4393-be73-20af4b15b6ea",
        "colab": {
          "base_uri": "https://localhost:8080/",
          "height": 35
        }
      },
      "source": [
        "(X_train, Y_train) = ((np.array(training_images)), np.array(training_labels))\n",
        "(X_validation, Y_validation) = ((np.array(validation_images)), np.array(validation_labels))\n",
        "X_train.shape, X_validation.shape, Y_train.shape, Y_validation.shape"
      ],
      "execution_count": 0,
      "outputs": [
        {
          "output_type": "execute_result",
          "data": {
            "text/plain": [
              "((19998, 200, 200, 3), (5000, 200, 200, 3), (19998,), (5000,))"
            ]
          },
          "metadata": {
            "tags": []
          },
          "execution_count": 28
        }
      ]
    },
    {
      "cell_type": "code",
      "metadata": {
        "id": "jDxIJtLcT2hi",
        "colab_type": "code",
        "outputId": "810db0a1-53c0-4147-bb53-77b3a5e19f25",
        "colab": {
          "base_uri": "https://localhost:8080/",
          "height": 35
        }
      },
      "source": [
        "Y_train = Y_train.reshape((Y_train.shape[0], 1))\n",
        "Y_validation = Y_validation.reshape((Y_validation.shape[0], 1))\n",
        "Y_train.shape, Y_validation.shape"
      ],
      "execution_count": 0,
      "outputs": [
        {
          "output_type": "execute_result",
          "data": {
            "text/plain": [
              "((19998, 1), (5000, 1))"
            ]
          },
          "metadata": {
            "tags": []
          },
          "execution_count": 29
        }
      ]
    },
    {
      "cell_type": "code",
      "metadata": {
        "id": "1E0u8eEZgd4i",
        "colab_type": "code",
        "colab": {}
      },
      "source": [
        "X_train = X_train.astype('float32')\n",
        "X_validation = X_validation.astype('float32')"
      ],
      "execution_count": 0,
      "outputs": []
    },
    {
      "cell_type": "code",
      "metadata": {
        "id": "_e6uSporg2wu",
        "colab_type": "code",
        "colab": {}
      },
      "source": [
        "X_train /= 255"
      ],
      "execution_count": 0,
      "outputs": []
    },
    {
      "cell_type": "code",
      "metadata": {
        "id": "y562wdm1UWLv",
        "colab_type": "code",
        "colab": {}
      },
      "source": [
        "X_validation /= 255"
      ],
      "execution_count": 0,
      "outputs": []
    },
    {
      "cell_type": "markdown",
      "metadata": {
        "id": "8xXQ5sjTii0i",
        "colab_type": "text"
      },
      "source": [
        "**Building CNN Model for Classification**"
      ]
    },
    {
      "cell_type": "code",
      "metadata": {
        "id": "2qJM9k5x-sKC",
        "colab_type": "code",
        "colab": {}
      },
      "source": [
        "from tensorflow import keras"
      ],
      "execution_count": 0,
      "outputs": []
    },
    {
      "cell_type": "code",
      "metadata": {
        "id": "JCEnyJAOiwS1",
        "colab_type": "code",
        "colab": {}
      },
      "source": [
        "from tensorflow.keras.models import Sequential\n",
        "from tensorflow.keras.layers import Conv2D, Flatten, Dense, MaxPool2D, BatchNormalization, Dropout"
      ],
      "execution_count": 0,
      "outputs": []
    },
    {
      "cell_type": "code",
      "metadata": {
        "id": "aDDhYasrkePi",
        "colab_type": "code",
        "colab": {}
      },
      "source": [
        "from tensorflow.keras.optimizers import Adam, SGD\n",
        "from tensorflow.keras.preprocessing.image import ImageDataGenerator"
      ],
      "execution_count": 0,
      "outputs": []
    },
    {
      "cell_type": "code",
      "metadata": {
        "id": "dELR_FN1jkai",
        "colab_type": "code",
        "outputId": "ef3926c9-dab6-494e-957a-531991368eaa",
        "colab": {
          "base_uri": "https://localhost:8080/",
          "height": 35
        }
      },
      "source": [
        "img_rows = X_train[0].shape[0]\n",
        "img_cols = X_train[0].shape[1]\n",
        "(img_rows, img_cols)"
      ],
      "execution_count": 0,
      "outputs": [
        {
          "output_type": "execute_result",
          "data": {
            "text/plain": [
              "(200, 200)"
            ]
          },
          "metadata": {
            "tags": []
          },
          "execution_count": 36
        }
      ]
    },
    {
      "cell_type": "code",
      "metadata": {
        "id": "EcGWBNxGeg21",
        "colab_type": "code",
        "colab": {}
      },
      "source": [
        "from tensorflow.keras.applications import VGG16\n",
        "from tensorflow.keras.models import Model"
      ],
      "execution_count": 0,
      "outputs": []
    },
    {
      "cell_type": "code",
      "metadata": {
        "id": "RbnAzr-ujPIu",
        "colab_type": "code",
        "colab": {}
      },
      "source": [
        "def define_model():\n",
        "  model=VGG16(include_top=False,input_shape=(img_rows,img_cols,3))\n",
        "  for layer in model.layers:\n",
        "    layer.trainable=False\n",
        "  \n",
        "  flat1=Flatten()(model.layers[-1].output)\n",
        "  class1=Dense(128,activation='relu',kernel_initializer='he_uniform')(flat1)\n",
        "  output=Dense(1,activation='sigmoid')(class1)\n",
        "\n",
        "  model=Model(inputs=model.inputs,outputs=output)\n",
        "\n",
        "  opt=Adam(learning_rate=0.0005)\n",
        "  model.compile(optimizer=opt,loss='binary_crossentropy',metrics=['accuracy'])\n",
        "  return model"
      ],
      "execution_count": 0,
      "outputs": []
    },
    {
      "cell_type": "code",
      "metadata": {
        "id": "BoS_vYhGl_Pj",
        "colab_type": "code",
        "colab": {}
      },
      "source": [
        "from tensorflow.keras.preprocessing.image import ImageDataGenerator"
      ],
      "execution_count": 0,
      "outputs": []
    },
    {
      "cell_type": "code",
      "metadata": {
        "id": "RjxIrvebk0vj",
        "colab_type": "code",
        "colab": {}
      },
      "source": [
        "train_datagen = ImageDataGenerator(rescale=1./255, shear_range=0.2, zoom_range=0.2, horizontal_flip=True)\n",
        "test_datagen = ImageDataGenerator(rescale=1./255)"
      ],
      "execution_count": 0,
      "outputs": []
    },
    {
      "cell_type": "code",
      "metadata": {
        "id": "uy4_ZkJ-l4Pt",
        "colab_type": "code",
        "outputId": "3c44af00-0799-45c4-b3f5-9cffc465601c",
        "colab": {
          "base_uri": "https://localhost:8080/",
          "height": 54
        }
      },
      "source": [
        "train_generator = train_datagen.flow_from_directory('/data/training/',target_size=(img_rows, img_cols),batch_size=32, class_mode='binary')\n",
        "test_generator = test_datagen.flow_from_directory('/data/validation/', target_size=(img_rows, img_cols), batch_size=32, class_mode='binary')"
      ],
      "execution_count": 0,
      "outputs": [
        {
          "output_type": "stream",
          "text": [
            "Found 19998 images belonging to 2 classes.\n",
            "Found 5000 images belonging to 2 classes.\n"
          ],
          "name": "stdout"
        }
      ]
    },
    {
      "cell_type": "code",
      "metadata": {
        "id": "wHYk5e_NnXV6",
        "colab_type": "code",
        "colab": {}
      },
      "source": [
        "model = define_model()"
      ],
      "execution_count": 0,
      "outputs": []
    },
    {
      "cell_type": "code",
      "metadata": {
        "id": "q5Eic2Ryq2Zj",
        "colab_type": "code",
        "colab": {}
      },
      "source": [
        "from tensorflow.keras.callbacks import ModelCheckpoint,EarlyStopping,ReduceLROnPlateau"
      ],
      "execution_count": 0,
      "outputs": []
    },
    {
      "cell_type": "code",
      "metadata": {
        "id": "J6e5RZLAq82_",
        "colab_type": "code",
        "colab": {}
      },
      "source": [
        "checkpoint = ModelCheckpoint(\"/data/cnn_model1_transfer.h5\",monitor='val_loss',verbose=1,save_best_only=True,mode='min')\n",
        "earlystop = EarlyStopping(monitor='val_loss',min_delta=0,patience=3,verbose=1,restore_best_weights=True)\n",
        "reduce_lr = ReduceLROnPlateau(monitor='val_loss',factor=0.2,patience=3,verbose=1,min_delta=0.0001)\n",
        "cb=[checkpoint, earlystop, reduce_lr]"
      ],
      "execution_count": 0,
      "outputs": []
    },
    {
      "cell_type": "code",
      "metadata": {
        "id": "ut5n8TvgmhU8",
        "colab_type": "code",
        "outputId": "8daba2ce-2ed3-4326-8d6e-10563e2c422c",
        "colab": {
          "base_uri": "https://localhost:8080/",
          "height": 698
        }
      },
      "source": [
        "history = model.fit_generator(train_generator, steps_per_epoch = len(train_generator), validation_data = test_generator, validation_steps = len(test_generator), epochs = 50,callbacks=cb)"
      ],
      "execution_count": 0,
      "outputs": [
        {
          "output_type": "stream",
          "text": [
            "Epoch 1/50\n",
            "624/625 [============================>.] - ETA: 0s - loss: 0.2663 - accuracy: 0.8854\n",
            "Epoch 00001: val_loss improved from inf to 0.23264, saving model to /data/cnn_model1_transfer.h5\n",
            "625/625 [==============================] - 179s 286ms/step - loss: 0.2664 - accuracy: 0.8854 - val_loss: 0.2326 - val_accuracy: 0.9054\n",
            "Epoch 2/50\n",
            "624/625 [============================>.] - ETA: 0s - loss: 0.1966 - accuracy: 0.9178\n",
            "Epoch 00002: val_loss improved from 0.23264 to 0.17662, saving model to /data/cnn_model1_transfer.h5\n",
            "625/625 [==============================] - 178s 285ms/step - loss: 0.1965 - accuracy: 0.9178 - val_loss: 0.1766 - val_accuracy: 0.9292\n",
            "Epoch 3/50\n",
            "624/625 [============================>.] - ETA: 0s - loss: 0.1821 - accuracy: 0.9245\n",
            "Epoch 00003: val_loss did not improve from 0.17662\n",
            "625/625 [==============================] - 178s 285ms/step - loss: 0.1821 - accuracy: 0.9245 - val_loss: 0.2235 - val_accuracy: 0.9084\n",
            "Epoch 4/50\n",
            "624/625 [============================>.] - ETA: 0s - loss: 0.1626 - accuracy: 0.9324\n",
            "Epoch 00004: val_loss improved from 0.17662 to 0.17412, saving model to /data/cnn_model1_transfer.h5\n",
            "625/625 [==============================] - 178s 286ms/step - loss: 0.1626 - accuracy: 0.9324 - val_loss: 0.1741 - val_accuracy: 0.9272\n",
            "Epoch 5/50\n",
            "624/625 [============================>.] - ETA: 0s - loss: 0.1611 - accuracy: 0.9318\n",
            "Epoch 00005: val_loss improved from 0.17412 to 0.15239, saving model to /data/cnn_model1_transfer.h5\n",
            "625/625 [==============================] - 179s 286ms/step - loss: 0.1611 - accuracy: 0.9318 - val_loss: 0.1524 - val_accuracy: 0.9380\n",
            "Epoch 6/50\n",
            "624/625 [============================>.] - ETA: 0s - loss: 0.1459 - accuracy: 0.9399\n",
            "Epoch 00006: val_loss did not improve from 0.15239\n",
            "625/625 [==============================] - 179s 286ms/step - loss: 0.1462 - accuracy: 0.9398 - val_loss: 0.1573 - val_accuracy: 0.9376\n",
            "Epoch 7/50\n",
            "624/625 [============================>.] - ETA: 0s - loss: 0.1407 - accuracy: 0.9411\n",
            "Epoch 00007: val_loss did not improve from 0.15239\n",
            "625/625 [==============================] - 178s 286ms/step - loss: 0.1406 - accuracy: 0.9412 - val_loss: 0.1548 - val_accuracy: 0.9380\n",
            "Epoch 8/50\n",
            "624/625 [============================>.] - ETA: 0s - loss: 0.1326 - accuracy: 0.9451\n",
            "Epoch 00008: val_loss did not improve from 0.15239\n",
            "Restoring model weights from the end of the best epoch.\n",
            "\n",
            "Epoch 00008: ReduceLROnPlateau reducing learning rate to 0.00010000000474974513.\n",
            "625/625 [==============================] - 179s 286ms/step - loss: 0.1327 - accuracy: 0.9450 - val_loss: 0.1733 - val_accuracy: 0.9314\n",
            "Epoch 00008: early stopping\n"
          ],
          "name": "stdout"
        }
      ]
    },
    {
      "cell_type": "code",
      "metadata": {
        "id": "PU5Ssk2aBc3Y",
        "colab_type": "code",
        "outputId": "60f12294-8cfd-4b24-ab6f-067ba551f54b",
        "colab": {
          "base_uri": "https://localhost:8080/",
          "height": 313
        }
      },
      "source": [
        "plt.plot(history.history['loss'],color='orange',label='Train Loss')\n",
        "plt.plot(history.history['val_loss'],color='blue',label='Validation Loss')\n",
        "plt.xlabel('Epochs')\n",
        "plt.ylabel('Loss')\n",
        "plt.title('Loss Graph')"
      ],
      "execution_count": 0,
      "outputs": [
        {
          "output_type": "execute_result",
          "data": {
            "text/plain": [
              "Text(0.5, 1.0, 'Loss Graph')"
            ]
          },
          "metadata": {
            "tags": []
          },
          "execution_count": 54
        },
        {
          "output_type": "display_data",
          "data": {
            "image/png": "[encoded data removed]",
            "text/plain": [
              "<Figure size 432x288 with 1 Axes>"
            ]
          },
          "metadata": {
            "tags": []
          }
        }
      ]
    }
  ]
}