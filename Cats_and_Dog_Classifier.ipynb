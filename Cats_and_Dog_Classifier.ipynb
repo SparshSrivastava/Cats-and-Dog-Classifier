{
  "nbformat": 4,
  "nbformat_minor": 0,
  "metadata": {
    "colab": {
      "name": "Cats and Dog Classifier.ipynb",
      "provenance": [],
      "collapsed_sections": [],
      "machine_shape": "hm",
      "authorship_tag": "ABX9TyP/qSVoQe1wYogRnn1R7/gR"
    },
    "kernelspec": {
      "name": "python3",
      "display_name": "Python 3"
    },
    "accelerator": "TPU"
  },
  "cells": [
    {
      "cell_type": "code",
      "metadata": {
        "id": "XQrXTDOCRojG",
        "colab_type": "code",
        "outputId": "66e57840-96ba-44a0-ae8a-85d99bbab12d",
        "colab": {
          "base_uri": "https://localhost:8080/",
          "height": 570
        }
      },
      "source": [
        "!pip install tensorflow-gpu==2.0.0-rc0"
      ],
      "execution_count": 0,
      "outputs": [
        {
          "output_type": "stream",
          "text": [
            "Collecting tensorflow-gpu==2.0.0-rc0\n",
            "\u001b[?25l  Downloading https://files.pythonhosted.org/packages/6a/12/8c64cc62149cc21c70c55018502831bbf4d42bd62bed196df7de6830d21b/tensorflow_gpu-2.0.0rc0-cp36-cp36m-manylinux2010_x86_64.whl (380.5MB)\n",
            "\u001b[K     |████████████████████████████████| 380.5MB 24kB/s \n",
            "\u001b[?25hRequirement already satisfied: absl-py>=0.7.0 in /usr/local/lib/python3.6/dist-packages (from tensorflow-gpu==2.0.0-rc0) (0.9.0)\n",
            "Requirement already satisfied: keras-applications>=1.0.8 in /usr/local/lib/python3.6/dist-packages (from tensorflow-gpu==2.0.0-rc0) (1.0.8)\n",
            "Requirement already satisfied: six>=1.10.0 in /usr/local/lib/python3.6/dist-packages (from tensorflow-gpu==2.0.0-rc0) (1.12.0)\n",
            "Requirement already satisfied: termcolor>=1.1.0 in /usr/local/lib/python3.6/dist-packages (from tensorflow-gpu==2.0.0-rc0) (1.1.0)\n",
            "Requirement already satisfied: opt-einsum>=2.3.2 in /usr/local/lib/python3.6/dist-packages (from tensorflow-gpu==2.0.0-rc0) (3.1.0)\n",
            "Requirement already satisfied: grpcio>=1.8.6 in /usr/local/lib/python3.6/dist-packages (from tensorflow-gpu==2.0.0-rc0) (1.15.0)\n",
            "Collecting tb-nightly<1.15.0a20190807,>=1.15.0a20190806\n",
            "\u001b[?25l  Downloading https://files.pythonhosted.org/packages/bc/88/24b5fb7280e74c7cf65bde47c171547fd02afb3840cff41bcbe9270650f5/tb_nightly-1.15.0a20190806-py3-none-any.whl (4.3MB)\n",
            "\u001b[K     |████████████████████████████████| 4.3MB 58.0MB/s \n",
            "\u001b[?25hRequirement already satisfied: astor>=0.6.0 in /usr/local/lib/python3.6/dist-packages (from tensorflow-gpu==2.0.0-rc0) (0.8.1)\n",
            "Requirement already satisfied: gast>=0.2.0 in /usr/local/lib/python3.6/dist-packages (from tensorflow-gpu==2.0.0-rc0) (0.2.2)\n",
            "Requirement already satisfied: wrapt>=1.11.1 in /usr/local/lib/python3.6/dist-packages (from tensorflow-gpu==2.0.0-rc0) (1.11.2)\n",
            "Requirement already satisfied: keras-preprocessing>=1.0.5 in /usr/local/lib/python3.6/dist-packages (from tensorflow-gpu==2.0.0-rc0) (1.1.0)\n",
            "Requirement already satisfied: protobuf>=3.6.1 in /usr/local/lib/python3.6/dist-packages (from tensorflow-gpu==2.0.0-rc0) (3.10.0)\n",
            "Requirement already satisfied: wheel>=0.26 in /usr/local/lib/python3.6/dist-packages (from tensorflow-gpu==2.0.0-rc0) (0.33.6)\n",
            "Requirement already satisfied: numpy<2.0,>=1.16.0 in /usr/local/lib/python3.6/dist-packages (from tensorflow-gpu==2.0.0-rc0) (1.17.5)\n",
            "Collecting tf-estimator-nightly<1.14.0.dev2019080602,>=1.14.0.dev2019080601\n",
            "\u001b[?25l  Downloading https://files.pythonhosted.org/packages/21/28/f2a27a62943d5f041e4a6fd404b2d21cb7c59b2242a4e73b03d9ba166552/tf_estimator_nightly-1.14.0.dev2019080601-py2.py3-none-any.whl (501kB)\n",
            "\u001b[K     |████████████████████████████████| 501kB 58.6MB/s \n",
            "\u001b[?25hRequirement already satisfied: google-pasta>=0.1.6 in /usr/local/lib/python3.6/dist-packages (from tensorflow-gpu==2.0.0-rc0) (0.1.8)\n",
            "Requirement already satisfied: h5py in /usr/local/lib/python3.6/dist-packages (from keras-applications>=1.0.8->tensorflow-gpu==2.0.0-rc0) (2.8.0)\n",
            "Requirement already satisfied: markdown>=2.6.8 in /usr/local/lib/python3.6/dist-packages (from tb-nightly<1.15.0a20190807,>=1.15.0a20190806->tensorflow-gpu==2.0.0-rc0) (3.1.1)\n",
            "Requirement already satisfied: werkzeug>=0.11.15 in /usr/local/lib/python3.6/dist-packages (from tb-nightly<1.15.0a20190807,>=1.15.0a20190806->tensorflow-gpu==2.0.0-rc0) (0.16.0)\n",
            "Requirement already satisfied: setuptools>=41.0.0 in /usr/local/lib/python3.6/dist-packages (from tb-nightly<1.15.0a20190807,>=1.15.0a20190806->tensorflow-gpu==2.0.0-rc0) (42.0.2)\n",
            "Installing collected packages: tb-nightly, tf-estimator-nightly, tensorflow-gpu\n",
            "Successfully installed tb-nightly-1.15.0a20190806 tensorflow-gpu-2.0.0rc0 tf-estimator-nightly-1.14.0.dev2019080601\n"
          ],
          "name": "stdout"
        }
      ]
    },
    {
      "cell_type": "code",
      "metadata": {
        "id": "bif5QfKnPkwU",
        "colab_type": "code",
        "colab": {}
      },
      "source": [
        "!pip install -q kaggle"
      ],
      "execution_count": 0,
      "outputs": []
    },
    {
      "cell_type": "code",
      "metadata": {
        "id": "ZF8CrU8aP6Z8",
        "colab_type": "code",
        "colab": {}
      },
      "source": [
        "!mkdir -p ~/.kaggle"
      ],
      "execution_count": 0,
      "outputs": []
    },
    {
      "cell_type": "code",
      "metadata": {
        "id": "ryheh4dORz7J",
        "colab_type": "code",
        "colab": {}
      },
      "source": [
        "!cp kaggle.json ~/.kaggle/"
      ],
      "execution_count": 0,
      "outputs": []
    },
    {
      "cell_type": "code",
      "metadata": {
        "id": "IxFtS6VbR9f9",
        "colab_type": "code",
        "colab": {}
      },
      "source": [
        "!chmod 600 ~/.kaggle/kaggle.json"
      ],
      "execution_count": 0,
      "outputs": []
    },
    {
      "cell_type": "code",
      "metadata": {
        "id": "2K1Zd1hiSIHo",
        "colab_type": "code",
        "outputId": "5fa2f39d-136e-4636-e3f1-98dc76acf234",
        "colab": {
          "base_uri": "https://localhost:8080/",
          "height": 201
        }
      },
      "source": [
        "!kaggle competitions download -c dogs-vs-cats"
      ],
      "execution_count": 0,
      "outputs": [
        {
          "output_type": "stream",
          "text": [
            "Warning: Looks like you're using an outdated API Version, please consider updating (server 1.5.6 / client 1.5.4)\n",
            "Downloading sampleSubmission.csv to /content\n",
            "  0% 0.00/86.8k [00:00<?, ?B/s]\n",
            "100% 86.8k/86.8k [00:00<00:00, 74.2MB/s]\n",
            "Downloading test1.zip to /content\n",
            " 94% 254M/271M [00:02<00:00, 119MB/s] \n",
            "100% 271M/271M [00:02<00:00, 125MB/s]\n",
            "Downloading train.zip to /content\n",
            " 98% 535M/543M [00:04<00:00, 121MB/s]\n",
            "100% 543M/543M [00:04<00:00, 116MB/s]\n"
          ],
          "name": "stdout"
        }
      ]
    },
    {
      "cell_type": "code",
      "metadata": {
        "id": "o9LGbKkKjkLs",
        "colab_type": "code",
        "outputId": "cb3633ad-0445-4c0c-a0d8-aab811f6a5f0",
        "colab": {
          "base_uri": "https://localhost:8080/",
          "height": 129
        }
      },
      "source": [
        "from google.colab import drive\n",
        "drive.mount('/content/drive')"
      ],
      "execution_count": 0,
      "outputs": [
        {
          "output_type": "stream",
          "text": [
            "Go to this URL in a browser: https://accounts.google.com/o/oauth2/auth?client_id=947318989803-6bn6qk8qdgf4n4g3pfee6491hc0brc4i.apps.googleusercontent.com&redirect_uri=urn%3aietf%3awg%3aoauth%3a2.0%3aoob&response_type=code&scope=email%20https%3a%2f%2fwww.googleapis.com%2fauth%2fdocs.test%20https%3a%2f%2fwww.googleapis.com%2fauth%2fdrive%20https%3a%2f%2fwww.googleapis.com%2fauth%2fdrive.photos.readonly%20https%3a%2f%2fwww.googleapis.com%2fauth%2fpeopleapi.readonly\n",
            "\n",
            "Enter your authorization code:\n",
            "··········\n",
            "Mounted at /content/drive\n"
          ],
          "name": "stdout"
        }
      ]
    },
    {
      "cell_type": "code",
      "metadata": {
        "id": "LvTCt_RZSYG3",
        "colab_type": "code",
        "outputId": "ffed3096-0cc6-48fd-b099-e4023c711e06",
        "colab": {
          "base_uri": "https://localhost:8080/",
          "height": 35
        }
      },
      "source": [
        "import os\n",
        "print(os.listdir('.'))"
      ],
      "execution_count": 0,
      "outputs": [
        {
          "output_type": "stream",
          "text": [
            "['.config', 'kaggle.json', 'sampleSubmission.csv', 'test1.zip', 'drive', 'train.zip', 'sample_data']\n"
          ],
          "name": "stdout"
        }
      ]
    },
    {
      "cell_type": "code",
      "metadata": {
        "id": "0_uxsW5LSaZf",
        "colab_type": "code",
        "colab": {}
      },
      "source": [
        "import zipfile\n",
        "zip_ref = zipfile.ZipFile('train.zip', 'r')\n",
        "zip_ref.extractall(\"/data\")\n",
        "zip_ref.close()"
      ],
      "execution_count": 0,
      "outputs": []
    },
    {
      "cell_type": "code",
      "metadata": {
        "id": "z2W3swumScSy",
        "colab_type": "code",
        "outputId": "834b58af-f3b7-477f-d7f1-38ce335f02d3",
        "colab": {
          "base_uri": "https://localhost:8080/",
          "height": 35
        }
      },
      "source": [
        "os.listdir('/data')"
      ],
      "execution_count": 0,
      "outputs": [
        {
          "output_type": "execute_result",
          "data": {
            "text/plain": [
              "['train']"
            ]
          },
          "metadata": {
            "tags": []
          },
          "execution_count": 10
        }
      ]
    },
    {
      "cell_type": "code",
      "metadata": {
        "id": "9KKNdxtAZc-a",
        "colab_type": "code",
        "outputId": "f23fc4e6-5802-45ba-83c9-c99101f598a7",
        "colab": {
          "base_uri": "https://localhost:8080/",
          "height": 35
        }
      },
      "source": [
        "my_path = '/data/train/'\n",
        "filename = [f for f in os.listdir(my_path) if f if os.path.isfile(os.path.join(my_path, f))]\n",
        "print(len(filename))"
      ],
      "execution_count": 0,
      "outputs": [
        {
          "output_type": "stream",
          "text": [
            "25000\n"
          ],
          "name": "stdout"
        }
      ]
    },
    {
      "cell_type": "markdown",
      "metadata": {
        "id": "0ICVqSSfZdCu",
        "colab_type": "text"
      },
      "source": [
        "**Exporting the data to folders**"
      ]
    },
    {
      "cell_type": "code",
      "metadata": {
        "id": "qMhoVWXlZdHB",
        "colab_type": "code",
        "colab": {}
      },
      "source": [
        "dogs_train_data = '/data/training/dogs/'\n",
        "dogs_validation_data = '/data/validation/dogs/'\n",
        "cats_train_data = '/data/training/cats/'\n",
        "cats_validation_data = '/data/validation/cats/'"
      ],
      "execution_count": 0,
      "outputs": []
    },
    {
      "cell_type": "code",
      "metadata": {
        "id": "QbSLtUBohpMZ",
        "colab_type": "code",
        "colab": {}
      },
      "source": [
        "import shutil\n",
        "import cv2\n",
        "import matplotlib.pyplot as plt"
      ],
      "execution_count": 0,
      "outputs": []
    },
    {
      "cell_type": "code",
      "metadata": {
        "id": "71acIya1ZdK1",
        "colab_type": "code",
        "colab": {}
      },
      "source": [
        "def make_dir(directory):\n",
        "  if(os.path.exists(directory)):\n",
        "    shutil.rmtree(directory)\n",
        "  os.makedirs(directory)"
      ],
      "execution_count": 0,
      "outputs": []
    },
    {
      "cell_type": "code",
      "metadata": {
        "id": "mqQM0Xt-h2II",
        "colab_type": "code",
        "colab": {}
      },
      "source": [
        "make_dir(dogs_train_data)\n",
        "make_dir(dogs_validation_data)\n",
        "make_dir(cats_train_data)\n",
        "make_dir(cats_validation_data)"
      ],
      "execution_count": 0,
      "outputs": []
    },
    {
      "cell_type": "code",
      "metadata": {
        "id": "cXg8PEJuh_EP",
        "colab_type": "code",
        "outputId": "548751fe-d125-45c8-e5ed-8ad6f0edb992",
        "colab": {
          "base_uri": "https://localhost:8080/",
          "height": 54
        }
      },
      "source": [
        "print(os.listdir('/data/training/'))\n",
        "print(os.listdir('/data/validation/'))"
      ],
      "execution_count": 0,
      "outputs": [
        {
          "output_type": "stream",
          "text": [
            "['cats', 'dogs']\n",
            "['cats', 'dogs']\n"
          ],
          "name": "stdout"
        }
      ]
    },
    {
      "cell_type": "code",
      "metadata": {
        "id": "Q1bV0Jb7ZdOm",
        "colab_type": "code",
        "colab": {}
      },
      "source": [
        "training_size = 10000\n",
        "validation_size = 2500\n",
        "training_images = []\n",
        "training_labels = []\n",
        "validation_images = []\n",
        "validation_labels = []\n",
        "size = 200\n",
        "dogs_cnt = 0\n",
        "cats_cnt = 0"
      ],
      "execution_count": 0,
      "outputs": []
    },
    {
      "cell_type": "code",
      "metadata": {
        "id": "m_nkyz6PjPyj",
        "colab_type": "code",
        "colab": {}
      },
      "source": [
        "for i, file in enumerate(filename):\n",
        "    if filename[i][0] == 'd':\n",
        "        dogs_cnt += 1\n",
        "        image = cv2.imread(my_path + file)\n",
        "        image = cv2.resize(image, (size, size))\n",
        "        if dogs_cnt < training_size:\n",
        "            training_images.append(image)\n",
        "            training_labels.append(1)\n",
        "            cv2.imwrite(dogs_train_data + \"dog\" + str(dogs_cnt) + \".jpg\", image)\n",
        "        \n",
        "        if dogs_cnt > training_size and dogs_cnt <= (training_size + validation_size):\n",
        "            validation_images.append(image)\n",
        "            validation_labels.append(1)\n",
        "            cv2.imwrite(dogs_validation_data + \"dog\" + str(dogs_cnt - training_size) + \".jpg\", image)\n",
        "    \n",
        "    if filename[i][0] == 'c':\n",
        "        cats_cnt += 1\n",
        "        image = cv2.imread(my_path + file)\n",
        "        image = cv2.resize(image, (size, size))\n",
        "        if cats_cnt < training_size:\n",
        "            training_images.append(image)\n",
        "            training_labels.append(1)\n",
        "            cv2.imwrite(cats_train_data + \"cats\" + str(cats_cnt)+\".jpg\", image)\n",
        "        \n",
        "        if cats_cnt > training_size and cats_cnt <= (training_size + validation_size):\n",
        "            validation_images.append(image)\n",
        "            validation_labels.append(1)\n",
        "            cv2.imwrite(cats_validation_data + \"cats\" + str(cats_cnt - training_size)+\".jpg\", image)\n",
        "    \n",
        "    if dogs_cnt == training_size + validation_size and cats_cnt == training_size + validation_size:\n",
        "        break"
      ],
      "execution_count": 0,
      "outputs": []
    },
    {
      "cell_type": "code",
      "metadata": {
        "id": "-blqcK8_i_5K",
        "colab_type": "code",
        "outputId": "bd5167bc-e12f-4591-ec46-3537f18a24a1",
        "colab": {
          "base_uri": "https://localhost:8080/",
          "height": 1000
        }
      },
      "source": [
        "os.listdir('/data/training/dogs')"
      ],
      "execution_count": 0,
      "outputs": [
        {
          "output_type": "execute_result",
          "data": {
            "text/plain": [
              "['dog7218.jpg',\n",
              " 'dog594.jpg',\n",
              " 'dog5483.jpg',\n",
              " 'dog9563.jpg',\n",
              " 'dog8581.jpg',\n",
              " 'dog3929.jpg',\n",
              " 'dog6028.jpg',\n",
              " 'dog3376.jpg',\n",
              " 'dog5060.jpg',\n",
              " 'dog4259.jpg',\n",
              " 'dog4015.jpg',\n",
              " 'dog2293.jpg',\n",
              " 'dog506.jpg',\n",
              " 'dog9390.jpg',\n",
              " 'dog2029.jpg',\n",
              " 'dog4403.jpg',\n",
              " 'dog7791.jpg',\n",
              " 'dog1341.jpg',\n",
              " 'dog4280.jpg',\n",
              " 'dog4591.jpg',\n",
              " 'dog3887.jpg',\n",
              " 'dog8669.jpg',\n",
              " 'dog8611.jpg',\n",
              " 'dog7050.jpg',\n",
              " 'dog8913.jpg',\n",
              " 'dog5136.jpg',\n",
              " 'dog9554.jpg',\n",
              " 'dog9635.jpg',\n",
              " 'dog5153.jpg',\n",
              " 'dog6723.jpg',\n",
              " 'dog6837.jpg',\n",
              " 'dog2098.jpg',\n",
              " 'dog4507.jpg',\n",
              " 'dog2041.jpg',\n",
              " 'dog6171.jpg',\n",
              " 'dog6064.jpg',\n",
              " 'dog7536.jpg',\n",
              " 'dog2639.jpg',\n",
              " 'dog7998.jpg',\n",
              " 'dog8680.jpg',\n",
              " 'dog8789.jpg',\n",
              " 'dog688.jpg',\n",
              " 'dog5057.jpg',\n",
              " 'dog8326.jpg',\n",
              " 'dog4965.jpg',\n",
              " 'dog7431.jpg',\n",
              " 'dog210.jpg',\n",
              " 'dog1340.jpg',\n",
              " 'dog2812.jpg',\n",
              " 'dog4526.jpg',\n",
              " 'dog5488.jpg',\n",
              " 'dog273.jpg',\n",
              " 'dog9706.jpg',\n",
              " 'dog9818.jpg',\n",
              " 'dog6621.jpg',\n",
              " 'dog648.jpg',\n",
              " 'dog9900.jpg',\n",
              " 'dog3087.jpg',\n",
              " 'dog9927.jpg',\n",
              " 'dog4438.jpg',\n",
              " 'dog8502.jpg',\n",
              " 'dog357.jpg',\n",
              " 'dog9406.jpg',\n",
              " 'dog3586.jpg',\n",
              " 'dog1235.jpg',\n",
              " 'dog5102.jpg',\n",
              " 'dog6270.jpg',\n",
              " 'dog4298.jpg',\n",
              " 'dog548.jpg',\n",
              " 'dog5978.jpg',\n",
              " 'dog6189.jpg',\n",
              " 'dog7638.jpg',\n",
              " 'dog1597.jpg',\n",
              " 'dog8492.jpg',\n",
              " 'dog1941.jpg',\n",
              " 'dog8780.jpg',\n",
              " 'dog5191.jpg',\n",
              " 'dog5914.jpg',\n",
              " 'dog3451.jpg',\n",
              " 'dog7167.jpg',\n",
              " 'dog2588.jpg',\n",
              " 'dog5459.jpg',\n",
              " 'dog6452.jpg',\n",
              " 'dog6295.jpg',\n",
              " 'dog1490.jpg',\n",
              " 'dog2396.jpg',\n",
              " 'dog239.jpg',\n",
              " 'dog6725.jpg',\n",
              " 'dog1446.jpg',\n",
              " 'dog5479.jpg',\n",
              " 'dog2767.jpg',\n",
              " 'dog9219.jpg',\n",
              " 'dog3008.jpg',\n",
              " 'dog6493.jpg',\n",
              " 'dog8246.jpg',\n",
              " 'dog5194.jpg',\n",
              " 'dog9079.jpg',\n",
              " 'dog6783.jpg',\n",
              " 'dog3883.jpg',\n",
              " 'dog9443.jpg',\n",
              " 'dog3085.jpg',\n",
              " 'dog8351.jpg',\n",
              " 'dog1437.jpg',\n",
              " 'dog8630.jpg',\n",
              " 'dog8469.jpg',\n",
              " 'dog3403.jpg',\n",
              " 'dog8860.jpg',\n",
              " 'dog8793.jpg',\n",
              " 'dog7528.jpg',\n",
              " 'dog675.jpg',\n",
              " 'dog1000.jpg',\n",
              " 'dog7664.jpg',\n",
              " 'dog6436.jpg',\n",
              " 'dog8429.jpg',\n",
              " 'dog331.jpg',\n",
              " 'dog9275.jpg',\n",
              " 'dog7917.jpg',\n",
              " 'dog5381.jpg',\n",
              " 'dog1837.jpg',\n",
              " 'dog4846.jpg',\n",
              " 'dog5339.jpg',\n",
              " 'dog2553.jpg',\n",
              " 'dog8926.jpg',\n",
              " 'dog1735.jpg',\n",
              " 'dog8621.jpg',\n",
              " 'dog5785.jpg',\n",
              " 'dog5140.jpg',\n",
              " 'dog1900.jpg',\n",
              " 'dog2291.jpg',\n",
              " 'dog8377.jpg',\n",
              " 'dog5465.jpg',\n",
              " 'dog9072.jpg',\n",
              " 'dog993.jpg',\n",
              " 'dog8044.jpg',\n",
              " 'dog6886.jpg',\n",
              " 'dog5702.jpg',\n",
              " 'dog7023.jpg',\n",
              " 'dog281.jpg',\n",
              " 'dog1197.jpg',\n",
              " 'dog8137.jpg',\n",
              " 'dog7642.jpg',\n",
              " 'dog7394.jpg',\n",
              " 'dog2059.jpg',\n",
              " 'dog4263.jpg',\n",
              " 'dog3550.jpg',\n",
              " 'dog3303.jpg',\n",
              " 'dog2180.jpg',\n",
              " 'dog447.jpg',\n",
              " 'dog7447.jpg',\n",
              " 'dog4049.jpg',\n",
              " 'dog3118.jpg',\n",
              " 'dog9379.jpg',\n",
              " 'dog722.jpg',\n",
              " 'dog6227.jpg',\n",
              " 'dog7217.jpg',\n",
              " 'dog606.jpg',\n",
              " 'dog821.jpg',\n",
              " 'dog5328.jpg',\n",
              " 'dog3198.jpg',\n",
              " 'dog1336.jpg',\n",
              " 'dog5670.jpg',\n",
              " 'dog2824.jpg',\n",
              " 'dog6285.jpg',\n",
              " 'dog9897.jpg',\n",
              " 'dog9441.jpg',\n",
              " 'dog2351.jpg',\n",
              " 'dog4741.jpg',\n",
              " 'dog813.jpg',\n",
              " 'dog2459.jpg',\n",
              " 'dog3833.jpg',\n",
              " 'dog9086.jpg',\n",
              " 'dog216.jpg',\n",
              " 'dog1525.jpg',\n",
              " 'dog5986.jpg',\n",
              " 'dog1979.jpg',\n",
              " 'dog4791.jpg',\n",
              " 'dog499.jpg',\n",
              " 'dog7101.jpg',\n",
              " 'dog9267.jpg',\n",
              " 'dog467.jpg',\n",
              " 'dog2060.jpg',\n",
              " 'dog7730.jpg',\n",
              " 'dog3332.jpg',\n",
              " 'dog1592.jpg',\n",
              " 'dog5887.jpg',\n",
              " 'dog7608.jpg',\n",
              " 'dog2959.jpg',\n",
              " 'dog6045.jpg',\n",
              " 'dog7292.jpg',\n",
              " 'dog8641.jpg',\n",
              " 'dog2142.jpg',\n",
              " 'dog2873.jpg',\n",
              " 'dog8535.jpg',\n",
              " 'dog1181.jpg',\n",
              " 'dog7066.jpg',\n",
              " 'dog3043.jpg',\n",
              " 'dog3507.jpg',\n",
              " 'dog8647.jpg',\n",
              " 'dog846.jpg',\n",
              " 'dog1828.jpg',\n",
              " 'dog1042.jpg',\n",
              " 'dog1080.jpg',\n",
              " 'dog3546.jpg',\n",
              " 'dog756.jpg',\n",
              " 'dog6221.jpg',\n",
              " 'dog1978.jpg',\n",
              " 'dog1618.jpg',\n",
              " 'dog4996.jpg',\n",
              " 'dog8235.jpg',\n",
              " 'dog3177.jpg',\n",
              " 'dog6389.jpg',\n",
              " 'dog4453.jpg',\n",
              " 'dog9929.jpg',\n",
              " 'dog7574.jpg',\n",
              " 'dog3430.jpg',\n",
              " 'dog3879.jpg',\n",
              " 'dog7657.jpg',\n",
              " 'dog6218.jpg',\n",
              " 'dog1046.jpg',\n",
              " 'dog7113.jpg',\n",
              " 'dog8979.jpg',\n",
              " 'dog5414.jpg',\n",
              " 'dog4859.jpg',\n",
              " 'dog4629.jpg',\n",
              " 'dog7314.jpg',\n",
              " 'dog5256.jpg',\n",
              " 'dog2468.jpg',\n",
              " 'dog7982.jpg',\n",
              " 'dog7644.jpg',\n",
              " 'dog9795.jpg',\n",
              " 'dog5784.jpg',\n",
              " 'dog3161.jpg',\n",
              " 'dog5577.jpg',\n",
              " 'dog1924.jpg',\n",
              " 'dog9042.jpg',\n",
              " 'dog7774.jpg',\n",
              " 'dog4409.jpg',\n",
              " 'dog3359.jpg',\n",
              " 'dog1937.jpg',\n",
              " 'dog7971.jpg',\n",
              " 'dog7227.jpg',\n",
              " 'dog1087.jpg',\n",
              " 'dog3916.jpg',\n",
              " 'dog3761.jpg',\n",
              " 'dog2924.jpg',\n",
              " 'dog7125.jpg',\n",
              " 'dog574.jpg',\n",
              " 'dog3832.jpg',\n",
              " 'dog7772.jpg',\n",
              " 'dog712.jpg',\n",
              " 'dog946.jpg',\n",
              " 'dog983.jpg',\n",
              " 'dog4397.jpg',\n",
              " 'dog6392.jpg',\n",
              " 'dog7229.jpg',\n",
              " 'dog8120.jpg',\n",
              " 'dog2167.jpg',\n",
              " 'dog3106.jpg',\n",
              " 'dog6715.jpg',\n",
              " 'dog1851.jpg',\n",
              " 'dog1052.jpg',\n",
              " 'dog2314.jpg',\n",
              " 'dog231.jpg',\n",
              " 'dog1727.jpg',\n",
              " 'dog4880.jpg',\n",
              " 'dog2941.jpg',\n",
              " 'dog185.jpg',\n",
              " 'dog7087.jpg',\n",
              " 'dog8358.jpg',\n",
              " 'dog7335.jpg',\n",
              " 'dog3839.jpg',\n",
              " 'dog5492.jpg',\n",
              " 'dog7524.jpg',\n",
              " 'dog9970.jpg',\n",
              " 'dog6999.jpg',\n",
              " 'dog5691.jpg',\n",
              " 'dog9665.jpg',\n",
              " 'dog4985.jpg',\n",
              " 'dog9918.jpg',\n",
              " 'dog540.jpg',\n",
              " 'dog6816.jpg',\n",
              " 'dog571.jpg',\n",
              " 'dog6036.jpg',\n",
              " 'dog8599.jpg',\n",
              " 'dog9371.jpg',\n",
              " 'dog7900.jpg',\n",
              " 'dog7402.jpg',\n",
              " 'dog6981.jpg',\n",
              " 'dog44.jpg',\n",
              " 'dog5383.jpg',\n",
              " 'dog590.jpg',\n",
              " 'dog9459.jpg',\n",
              " 'dog9123.jpg',\n",
              " 'dog3391.jpg',\n",
              " 'dog1158.jpg',\n",
              " 'dog6249.jpg',\n",
              " 'dog971.jpg',\n",
              " 'dog3220.jpg',\n",
              " 'dog3591.jpg',\n",
              " 'dog9808.jpg',\n",
              " 'dog6030.jpg',\n",
              " 'dog1443.jpg',\n",
              " 'dog4157.jpg',\n",
              " 'dog6170.jpg',\n",
              " 'dog497.jpg',\n",
              " 'dog3328.jpg',\n",
              " 'dog2899.jpg',\n",
              " 'dog3477.jpg',\n",
              " 'dog8013.jpg',\n",
              " 'dog6012.jpg',\n",
              " 'dog9085.jpg',\n",
              " 'dog124.jpg',\n",
              " 'dog2366.jpg',\n",
              " 'dog3331.jpg',\n",
              " 'dog9628.jpg',\n",
              " 'dog1939.jpg',\n",
              " 'dog613.jpg',\n",
              " 'dog5036.jpg',\n",
              " 'dog7932.jpg',\n",
              " 'dog2198.jpg',\n",
              " 'dog5553.jpg',\n",
              " 'dog6875.jpg',\n",
              " 'dog486.jpg',\n",
              " 'dog4090.jpg',\n",
              " 'dog2421.jpg',\n",
              " 'dog7579.jpg',\n",
              " 'dog4602.jpg',\n",
              " 'dog6583.jpg',\n",
              " 'dog2286.jpg',\n",
              " 'dog3816.jpg',\n",
              " 'dog264.jpg',\n",
              " 'dog7985.jpg',\n",
              " 'dog4760.jpg',\n",
              " 'dog8816.jpg',\n",
              " 'dog2721.jpg',\n",
              " 'dog1267.jpg',\n",
              " 'dog8788.jpg',\n",
              " 'dog3325.jpg',\n",
              " 'dog6605.jpg',\n",
              " 'dog6955.jpg',\n",
              " 'dog8987.jpg',\n",
              " 'dog6344.jpg',\n",
              " 'dog2526.jpg',\n",
              " 'dog1184.jpg',\n",
              " 'dog2626.jpg',\n",
              " 'dog4341.jpg',\n",
              " 'dog2705.jpg',\n",
              " 'dog7326.jpg',\n",
              " 'dog3400.jpg',\n",
              " 'dog2249.jpg',\n",
              " 'dog2398.jpg',\n",
              " 'dog5776.jpg',\n",
              " 'dog3429.jpg',\n",
              " 'dog5872.jpg',\n",
              " 'dog6777.jpg',\n",
              " 'dog3545.jpg',\n",
              " 'dog1957.jpg',\n",
              " 'dog3875.jpg',\n",
              " 'dog6315.jpg',\n",
              " 'dog1035.jpg',\n",
              " 'dog442.jpg',\n",
              " 'dog6524.jpg',\n",
              " 'dog269.jpg',\n",
              " 'dog8876.jpg',\n",
              " 'dog7216.jpg',\n",
              " 'dog8528.jpg',\n",
              " 'dog3352.jpg',\n",
              " 'dog6234.jpg',\n",
              " 'dog7934.jpg',\n",
              " 'dog734.jpg',\n",
              " 'dog1232.jpg',\n",
              " 'dog5341.jpg',\n",
              " 'dog8810.jpg',\n",
              " 'dog7293.jpg',\n",
              " 'dog5352.jpg',\n",
              " 'dog7304.jpg',\n",
              " 'dog5847.jpg',\n",
              " 'dog4574.jpg',\n",
              " 'dog6480.jpg',\n",
              " 'dog6634.jpg',\n",
              " 'dog284.jpg',\n",
              " 'dog5661.jpg',\n",
              " 'dog6677.jpg',\n",
              " 'dog9622.jpg',\n",
              " 'dog2562.jpg',\n",
              " 'dog3141.jpg',\n",
              " 'dog449.jpg',\n",
              " 'dog8708.jpg',\n",
              " 'dog7494.jpg',\n",
              " 'dog4017.jpg',\n",
              " 'dog1426.jpg',\n",
              " 'dog9753.jpg',\n",
              " 'dog8819.jpg',\n",
              " 'dog1354.jpg',\n",
              " 'dog3998.jpg',\n",
              " 'dog5750.jpg',\n",
              " 'dog6063.jpg',\n",
              " 'dog7141.jpg',\n",
              " 'dog3987.jpg',\n",
              " 'dog8490.jpg',\n",
              " 'dog5069.jpg',\n",
              " 'dog775.jpg',\n",
              " 'dog2321.jpg',\n",
              " 'dog6091.jpg',\n",
              " 'dog8364.jpg',\n",
              " 'dog3623.jpg',\n",
              " 'dog4543.jpg',\n",
              " 'dog2561.jpg',\n",
              " 'dog3171.jpg',\n",
              " 'dog1975.jpg',\n",
              " 'dog5407.jpg',\n",
              " 'dog2690.jpg',\n",
              " 'dog1487.jpg',\n",
              " 'dog5015.jpg',\n",
              " 'dog6413.jpg',\n",
              " 'dog6023.jpg',\n",
              " 'dog3148.jpg',\n",
              " 'dog3956.jpg',\n",
              " 'dog7802.jpg',\n",
              " 'dog7563.jpg',\n",
              " 'dog7371.jpg',\n",
              " 'dog4779.jpg',\n",
              " 'dog1449.jpg',\n",
              " 'dog1362.jpg',\n",
              " 'dog6155.jpg',\n",
              " 'dog24.jpg',\n",
              " 'dog5946.jpg',\n",
              " 'dog4405.jpg',\n",
              " 'dog3294.jpg',\n",
              " 'dog8219.jpg',\n",
              " 'dog5985.jpg',\n",
              " 'dog9590.jpg',\n",
              " 'dog5470.jpg',\n",
              " 'dog5296.jpg',\n",
              " 'dog6636.jpg',\n",
              " 'dog1357.jpg',\n",
              " 'dog4858.jpg',\n",
              " 'dog1928.jpg',\n",
              " 'dog2542.jpg',\n",
              " 'dog4598.jpg',\n",
              " 'dog3608.jpg',\n",
              " 'dog8734.jpg',\n",
              " 'dog7454.jpg',\n",
              " 'dog3738.jpg',\n",
              " 'dog2704.jpg',\n",
              " 'dog5656.jpg',\n",
              " 'dog2259.jpg',\n",
              " 'dog1678.jpg',\n",
              " 'dog9216.jpg',\n",
              " 'dog2313.jpg',\n",
              " 'dog5356.jpg',\n",
              " 'dog4900.jpg',\n",
              " 'dog4189.jpg',\n",
              " 'dog4886.jpg',\n",
              " 'dog5214.jpg',\n",
              " 'dog9575.jpg',\n",
              " 'dog5689.jpg',\n",
              " 'dog6287.jpg',\n",
              " 'dog4164.jpg',\n",
              " 'dog6246.jpg',\n",
              " 'dog8166.jpg',\n",
              " 'dog9173.jpg',\n",
              " 'dog7635.jpg',\n",
              " 'dog1553.jpg',\n",
              " 'dog9906.jpg',\n",
              " 'dog9634.jpg',\n",
              " 'dog8904.jpg',\n",
              " 'dog3482.jpg',\n",
              " 'dog5981.jpg',\n",
              " 'dog2017.jpg',\n",
              " 'dog1836.jpg',\n",
              " 'dog2382.jpg',\n",
              " 'dog2699.jpg',\n",
              " 'dog9012.jpg',\n",
              " 'dog2002.jpg',\n",
              " 'dog5606.jpg',\n",
              " 'dog9871.jpg',\n",
              " 'dog9885.jpg',\n",
              " 'dog4675.jpg',\n",
              " 'dog4290.jpg',\n",
              " 'dog3865.jpg',\n",
              " 'dog5211.jpg',\n",
              " 'dog8419.jpg',\n",
              " 'dog8546.jpg',\n",
              " 'dog928.jpg',\n",
              " 'dog6298.jpg',\n",
              " 'dog7650.jpg',\n",
              " 'dog2564.jpg',\n",
              " 'dog4578.jpg',\n",
              " 'dog4166.jpg',\n",
              " 'dog6971.jpg',\n",
              " 'dog9182.jpg',\n",
              " 'dog7708.jpg',\n",
              " 'dog828.jpg',\n",
              " 'dog3256.jpg',\n",
              " 'dog2432.jpg',\n",
              " 'dog7429.jpg',\n",
              " 'dog4440.jpg',\n",
              " 'dog2299.jpg',\n",
              " 'dog8779.jpg',\n",
              " 'dog5665.jpg',\n",
              " 'dog2241.jpg',\n",
              " 'dog9700.jpg',\n",
              " 'dog4991.jpg',\n",
              " 'dog3224.jpg',\n",
              " 'dog5201.jpg',\n",
              " 'dog4121.jpg',\n",
              " 'dog6555.jpg',\n",
              " 'dog8542.jpg',\n",
              " 'dog8213.jpg',\n",
              " 'dog5034.jpg',\n",
              " 'dog5068.jpg',\n",
              " 'dog9525.jpg',\n",
              " 'dog6328.jpg',\n",
              " 'dog9250.jpg',\n",
              " 'dog1422.jpg',\n",
              " 'dog5609.jpg',\n",
              " 'dog1327.jpg',\n",
              " 'dog7701.jpg',\n",
              " 'dog844.jpg',\n",
              " 'dog5811.jpg',\n",
              " 'dog67.jpg',\n",
              " 'dog3665.jpg',\n",
              " 'dog3027.jpg',\n",
              " 'dog1102.jpg',\n",
              " 'dog8362.jpg',\n",
              " 'dog994.jpg',\n",
              " 'dog7231.jpg',\n",
              " 'dog735.jpg',\n",
              " 'dog8211.jpg',\n",
              " 'dog3767.jpg',\n",
              " 'dog143.jpg',\n",
              " 'dog7832.jpg',\n",
              " 'dog6486.jpg',\n",
              " 'dog1353.jpg',\n",
              " 'dog603.jpg',\n",
              " 'dog6967.jpg',\n",
              " 'dog2888.jpg',\n",
              " 'dog7100.jpg',\n",
              " 'dog7155.jpg',\n",
              " 'dog7142.jpg',\n",
              " 'dog5335.jpg',\n",
              " 'dog6916.jpg',\n",
              " 'dog6921.jpg',\n",
              " 'dog1706.jpg',\n",
              " 'dog4457.jpg',\n",
              " 'dog5400.jpg',\n",
              " 'dog5366.jpg',\n",
              " 'dog2151.jpg',\n",
              " 'dog6301.jpg',\n",
              " 'dog7820.jpg',\n",
              " 'dog1249.jpg',\n",
              " 'dog1002.jpg',\n",
              " 'dog8040.jpg',\n",
              " 'dog4553.jpg',\n",
              " 'dog72.jpg',\n",
              " 'dog2702.jpg',\n",
              " 'dog8155.jpg',\n",
              " 'dog3269.jpg',\n",
              " 'dog6437.jpg',\n",
              " 'dog5275.jpg',\n",
              " 'dog6160.jpg',\n",
              " 'dog3708.jpg',\n",
              " 'dog4805.jpg',\n",
              " 'dog6940.jpg',\n",
              " 'dog5997.jpg',\n",
              " 'dog8411.jpg',\n",
              " 'dog7110.jpg',\n",
              " 'dog4299.jpg',\n",
              " 'dog6088.jpg',\n",
              " 'dog2235.jpg',\n",
              " 'dog3854.jpg',\n",
              " 'dog809.jpg',\n",
              " 'dog4930.jpg',\n",
              " 'dog9329.jpg',\n",
              " 'dog9398.jpg',\n",
              " 'dog5649.jpg',\n",
              " 'dog4145.jpg',\n",
              " 'dog1905.jpg',\n",
              " 'dog7678.jpg',\n",
              " 'dog793.jpg',\n",
              " 'dog2523.jpg',\n",
              " 'dog2974.jpg',\n",
              " 'dog9835.jpg',\n",
              " 'dog6607.jpg',\n",
              " 'dog9869.jpg',\n",
              " 'dog3319.jpg',\n",
              " 'dog8879.jpg',\n",
              " 'dog801.jpg',\n",
              " 'dog3313.jpg',\n",
              " 'dog6244.jpg',\n",
              " 'dog2185.jpg',\n",
              " 'dog4580.jpg',\n",
              " 'dog1455.jpg',\n",
              " 'dog655.jpg',\n",
              " 'dog3719.jpg',\n",
              " 'dog5035.jpg',\n",
              " 'dog3036.jpg',\n",
              " 'dog981.jpg',\n",
              " 'dog3488.jpg',\n",
              " 'dog9662.jpg',\n",
              " 'dog3900.jpg',\n",
              " 'dog2350.jpg',\n",
              " 'dog5601.jpg',\n",
              " 'dog8709.jpg',\n",
              " 'dog9323.jpg',\n",
              " 'dog2490.jpg',\n",
              " 'dog6942.jpg',\n",
              " 'dog5516.jpg',\n",
              " 'dog1850.jpg',\n",
              " 'dog658.jpg',\n",
              " 'dog5084.jpg',\n",
              " 'dog7906.jpg',\n",
              " 'dog391.jpg',\n",
              " 'dog6433.jpg',\n",
              " 'dog5351.jpg',\n",
              " 'dog556.jpg',\n",
              " 'dog1223.jpg',\n",
              " 'dog8886.jpg',\n",
              " 'dog9049.jpg',\n",
              " 'dog3392.jpg',\n",
              " 'dog8985.jpg',\n",
              " 'dog3528.jpg',\n",
              " 'dog4402.jpg',\n",
              " 'dog7534.jpg',\n",
              " 'dog2457.jpg',\n",
              " 'dog6578.jpg',\n",
              " 'dog636.jpg',\n",
              " 'dog7569.jpg',\n",
              " 'dog9158.jpg',\n",
              " 'dog6795.jpg',\n",
              " 'dog952.jpg',\n",
              " 'dog9941.jpg',\n",
              " 'dog9813.jpg',\n",
              " 'dog1001.jpg',\n",
              " 'dog2516.jpg',\n",
              " 'dog7923.jpg',\n",
              " 'dog4896.jpg',\n",
              " 'dog2255.jpg',\n",
              " 'dog7955.jpg',\n",
              " 'dog9397.jpg',\n",
              " 'dog8446.jpg',\n",
              " 'dog6559.jpg',\n",
              " 'dog1856.jpg',\n",
              " 'dog4156.jpg',\n",
              " 'dog6882.jpg',\n",
              " 'dog5615.jpg',\n",
              " 'dog3616.jpg',\n",
              " 'dog9103.jpg',\n",
              " 'dog2416.jpg',\n",
              " 'dog9962.jpg',\n",
              " 'dog591.jpg',\n",
              " 'dog5891.jpg',\n",
              " 'dog4834.jpg',\n",
              " 'dog9289.jpg',\n",
              " 'dog4365.jpg',\n",
              " 'dog3983.jpg',\n",
              " 'dog1512.jpg',\n",
              " 'dog3493.jpg',\n",
              " 'dog4550.jpg',\n",
              " 'dog5226.jpg',\n",
              " 'dog9780.jpg',\n",
              " 'dog9687.jpg',\n",
              " 'dog8392.jpg',\n",
              " 'dog2152.jpg',\n",
              " 'dog849.jpg',\n",
              " 'dog1651.jpg',\n",
              " 'dog7775.jpg',\n",
              " 'dog664.jpg',\n",
              " 'dog3321.jpg',\n",
              " 'dog3258.jpg',\n",
              " 'dog8000.jpg',\n",
              " 'dog2541.jpg',\n",
              " 'dog4976.jpg',\n",
              " 'dog4727.jpg',\n",
              " 'dog4168.jpg',\n",
              " 'dog707.jpg',\n",
              " 'dog3217.jpg',\n",
              " 'dog3799.jpg',\n",
              " 'dog6440.jpg',\n",
              " 'dog191.jpg',\n",
              " 'dog2124.jpg',\n",
              " 'dog7816.jpg',\n",
              " 'dog1791.jpg',\n",
              " 'dog3837.jpg',\n",
              " 'dog2010.jpg',\n",
              " 'dog305.jpg',\n",
              " 'dog1113.jpg',\n",
              " 'dog6978.jpg',\n",
              " 'dog9878.jpg',\n",
              " 'dog9594.jpg',\n",
              " 'dog8794.jpg',\n",
              " 'dog2211.jpg',\n",
              " 'dog7178.jpg',\n",
              " 'dog8051.jpg',\n",
              " 'dog4303.jpg',\n",
              " 'dog1350.jpg',\n",
              " 'dog2012.jpg',\n",
              " 'dog6648.jpg',\n",
              " 'dog8751.jpg',\n",
              " 'dog7054.jpg',\n",
              " 'dog2750.jpg',\n",
              " 'dog9413.jpg',\n",
              " 'dog1213.jpg',\n",
              " 'dog5562.jpg',\n",
              " 'dog6613.jpg',\n",
              " 'dog9538.jpg',\n",
              " 'dog7795.jpg',\n",
              " 'dog6300.jpg',\n",
              " 'dog557.jpg',\n",
              " 'dog1556.jpg',\n",
              " 'dog4375.jpg',\n",
              " 'dog4761.jpg',\n",
              " 'dog4366.jpg',\n",
              " 'dog1368.jpg',\n",
              " 'dog3364.jpg',\n",
              " 'dog8322.jpg',\n",
              " 'dog9684.jpg',\n",
              " 'dog5958.jpg',\n",
              " 'dog6672.jpg',\n",
              " 'dog9468.jpg',\n",
              " 'dog3747.jpg',\n",
              " 'dog1862.jpg',\n",
              " 'dog2870.jpg',\n",
              " 'dog8736.jpg',\n",
              " 'dog4410.jpg',\n",
              " 'dog4372.jpg',\n",
              " 'dog6655.jpg',\n",
              " 'dog4194.jpg',\n",
              " 'dog9764.jpg',\n",
              " 'dog7221.jpg',\n",
              " 'dog5803.jpg',\n",
              " 'dog3746.jpg',\n",
              " 'dog3462.jpg',\n",
              " 'dog7735.jpg',\n",
              " 'dog1044.jpg',\n",
              " 'dog7412.jpg',\n",
              " 'dog5002.jpg',\n",
              " 'dog8711.jpg',\n",
              " 'dog8426.jpg',\n",
              " 'dog8164.jpg',\n",
              " 'dog8283.jpg',\n",
              " 'dog6817.jpg',\n",
              " 'dog2274.jpg',\n",
              " 'dog1331.jpg',\n",
              " 'dog9711.jpg',\n",
              " 'dog3274.jpg',\n",
              " 'dog3119.jpg',\n",
              " 'dog7097.jpg',\n",
              " 'dog5220.jpg',\n",
              " 'dog3071.jpg',\n",
              " 'dog7720.jpg',\n",
              " 'dog5104.jpg',\n",
              " 'dog5900.jpg',\n",
              " 'dog5119.jpg',\n",
              " 'dog7191.jpg',\n",
              " 'dog9448.jpg',\n",
              " 'dog8481.jpg',\n",
              " 'dog6786.jpg',\n",
              " 'dog2785.jpg',\n",
              " 'dog523.jpg',\n",
              " 'dog6451.jpg',\n",
              " 'dog4267.jpg',\n",
              " 'dog5779.jpg',\n",
              " 'dog9110.jpg',\n",
              " 'dog7716.jpg',\n",
              " 'dog947.jpg',\n",
              " 'dog500.jpg',\n",
              " 'dog1610.jpg',\n",
              " 'dog2781.jpg',\n",
              " 'dog7944.jpg',\n",
              " 'dog1208.jpg',\n",
              " 'dog4067.jpg',\n",
              " 'dog6046.jpg',\n",
              " 'dog5888.jpg',\n",
              " 'dog395.jpg',\n",
              " 'dog5814.jpg',\n",
              " 'dog570.jpg',\n",
              " 'dog5300.jpg',\n",
              " 'dog2535.jpg',\n",
              " 'dog278.jpg',\n",
              " 'dog5327.jpg',\n",
              " 'dog9771.jpg',\n",
              " 'dog3104.jpg',\n",
              " 'dog7262.jpg',\n",
              " 'dog5551.jpg',\n",
              " 'dog8710.jpg',\n",
              " 'dog2982.jpg',\n",
              " 'dog8262.jpg',\n",
              " 'dog5427.jpg',\n",
              " 'dog4135.jpg',\n",
              " 'dog3154.jpg',\n",
              " 'dog8998.jpg',\n",
              " 'dog6037.jpg',\n",
              " 'dog7929.jpg',\n",
              " 'dog3035.jpg',\n",
              " 'dog6823.jpg',\n",
              " 'dog6116.jpg',\n",
              " 'dog1539.jpg',\n",
              " 'dog1671.jpg',\n",
              " 'dog1039.jpg',\n",
              " 'dog592.jpg',\n",
              " 'dog8939.jpg',\n",
              " 'dog6641.jpg',\n",
              " 'dog5804.jpg',\n",
              " 'dog5542.jpg',\n",
              " 'dog8653.jpg',\n",
              " 'dog1049.jpg',\n",
              " 'dog9541.jpg',\n",
              " 'dog7848.jpg',\n",
              " 'dog8043.jpg',\n",
              " 'dog5940.jpg',\n",
              " 'dog1848.jpg',\n",
              " 'dog1670.jpg',\n",
              " 'dog4807.jpg',\n",
              " 'dog9695.jpg',\n",
              " 'dog9157.jpg',\n",
              " 'dog1762.jpg',\n",
              " 'dog9864.jpg',\n",
              " 'dog9834.jpg',\n",
              " 'dog8034.jpg',\n",
              " 'dog491.jpg',\n",
              " 'dog4305.jpg',\n",
              " 'dog5252.jpg',\n",
              " 'dog4773.jpg',\n",
              " 'dog4447.jpg',\n",
              " 'dog9576.jpg',\n",
              " 'dog7576.jpg',\n",
              " 'dog7181.jpg',\n",
              " 'dog8344.jpg',\n",
              " 'dog6682.jpg',\n",
              " 'dog6105.jpg',\n",
              " 'dog8487.jpg',\n",
              " 'dog8229.jpg',\n",
              " 'dog5638.jpg',\n",
              " 'dog3169.jpg',\n",
              " 'dog3963.jpg',\n",
              " 'dog2280.jpg',\n",
              " 'dog9961.jpg',\n",
              " 'dog1078.jpg',\n",
              " 'dog988.jpg',\n",
              " 'dog5539.jpg',\n",
              " 'dog5439.jpg',\n",
              " 'dog4703.jpg',\n",
              " 'dog829.jpg',\n",
              " 'dog6450.jpg',\n",
              " 'dog8748.jpg',\n",
              " 'dog6399.jpg',\n",
              " 'dog2058.jpg',\n",
              " 'dog389.jpg',\n",
              " 'dog3448.jpg',\n",
              " 'dog9781.jpg',\n",
              " 'dog3055.jpg',\n",
              " 'dog1185.jpg',\n",
              " 'dog6292.jpg',\n",
              " 'dog4277.jpg',\n",
              " 'dog6383.jpg',\n",
              " 'dog1947.jpg',\n",
              " 'dog7595.jpg',\n",
              " 'dog640.jpg',\n",
              " 'dog3834.jpg',\n",
              " 'dog5918.jpg',\n",
              " 'dog8980.jpg',\n",
              " 'dog1498.jpg',\n",
              " 'dog7548.jpg',\n",
              " 'dog1912.jpg',\n",
              " 'dog5758.jpg',\n",
              " 'dog1889.jpg',\n",
              " 'dog5619.jpg',\n",
              " 'dog5812.jpg',\n",
              " 'dog5458.jpg',\n",
              " 'dog2324.jpg',\n",
              " 'dog1784.jpg',\n",
              " 'dog9785.jpg',\n",
              " 'dog6893.jpg',\n",
              " 'dog1876.jpg',\n",
              " 'dog2710.jpg',\n",
              " 'dog8637.jpg',\n",
              " 'dog1868.jpg',\n",
              " 'dog6390.jpg',\n",
              " 'dog1952.jpg',\n",
              " 'dog1411.jpg',\n",
              " 'dog2470.jpg',\n",
              " 'dog8009.jpg',\n",
              " 'dog8873.jpg',\n",
              " 'dog3343.jpg',\n",
              " 'dog3379.jpg',\n",
              " 'dog2973.jpg',\n",
              " 'dog4454.jpg',\n",
              " 'dog5059.jpg',\n",
              " 'dog6936.jpg',\n",
              " 'dog7205.jpg',\n",
              " 'dog7089.jpg',\n",
              " 'dog7840.jpg',\n",
              " 'dog1751.jpg',\n",
              " 'dog8075.jpg',\n",
              " 'dog1379.jpg',\n",
              " 'dog9311.jpg',\n",
              " 'dog1811.jpg',\n",
              " 'dog7099.jpg',\n",
              " 'dog6980.jpg',\n",
              " 'dog7515.jpg',\n",
              " 'dog8594.jpg',\n",
              " 'dog2373.jpg',\n",
              " 'dog9372.jpg',\n",
              " 'dog475.jpg',\n",
              " 'dog2506.jpg',\n",
              " 'dog8224.jpg',\n",
              " 'dog9624.jpg',\n",
              " 'dog2253.jpg',\n",
              " 'dog2118.jpg',\n",
              " 'dog3622.jpg',\n",
              " 'dog543.jpg',\n",
              " 'dog7713.jpg',\n",
              " 'dog2414.jpg',\n",
              " 'dog6839.jpg',\n",
              " 'dog3691.jpg',\n",
              " 'dog9562.jpg',\n",
              " 'dog2394.jpg',\n",
              " 'dog8526.jpg',\n",
              " 'dog5396.jpg',\n",
              " 'dog4003.jpg',\n",
              " 'dog1398.jpg',\n",
              " 'dog1122.jpg',\n",
              " 'dog7531.jpg',\n",
              " 'dog8619.jpg',\n",
              " 'dog2658.jpg',\n",
              " 'dog4998.jpg',\n",
              " 'dog2021.jpg',\n",
              " 'dog8270.jpg',\n",
              " 'dog1742.jpg',\n",
              " 'dog1821.jpg',\n",
              " 'dog3486.jpg',\n",
              " 'dog2544.jpg',\n",
              " 'dog1697.jpg',\n",
              " 'dog2742.jpg',\n",
              " 'dog7257.jpg',\n",
              " 'dog9120.jpg',\n",
              " 'dog9853.jpg',\n",
              " 'dog9295.jpg',\n",
              " 'dog8657.jpg',\n",
              " 'dog1682.jpg',\n",
              " 'dog2644.jpg',\n",
              " 'dog7807.jpg',\n",
              " 'dog3025.jpg',\n",
              " 'dog4257.jpg',\n",
              " 'dog2793.jpg',\n",
              " 'dog198.jpg',\n",
              " 'dog1316.jpg',\n",
              " 'dog2343.jpg',\n",
              " 'dog9227.jpg',\n",
              " 'dog8560.jpg',\n",
              " 'dog95.jpg',\n",
              " 'dog876.jpg',\n",
              " 'dog2492.jpg',\n",
              " 'dog478.jpg',\n",
              " 'dog8264.jpg',\n",
              " 'dog7094.jpg',\n",
              " 'dog831.jpg',\n",
              " 'dog4739.jpg',\n",
              " 'dog4109.jpg',\n",
              " 'dog5768.jpg',\n",
              " 'dog7069.jpg',\n",
              " 'dog6447.jpg',\n",
              " 'dog9647.jpg',\n",
              " 'dog6661.jpg',\n",
              " 'dog7859.jpg',\n",
              " 'dog5008.jpg',\n",
              " 'dog4190.jpg',\n",
              " 'dog3468.jpg',\n",
              " 'dog3526.jpg',\n",
              " 'dog8608.jpg',\n",
              " 'dog5162.jpg',\n",
              " 'dog508.jpg',\n",
              " 'dog3859.jpg',\n",
              " 'dog8189.jpg',\n",
              " 'dog1962.jpg',\n",
              " 'dog1615.jpg',\n",
              " 'dog4698.jpg',\n",
              " 'dog4463.jpg',\n",
              " 'dog998.jpg',\n",
              " 'dog8686.jpg',\n",
              " 'dog9285.jpg',\n",
              " 'dog6956.jpg',\n",
              " 'dog5257.jpg',\n",
              " 'dog1370.jpg',\n",
              " 'dog5468.jpg',\n",
              " 'dog6096.jpg',\n",
              " 'dog8412.jpg',\n",
              " 'dog8356.jpg',\n",
              " 'dog2223.jpg',\n",
              " 'dog9750.jpg',\n",
              " 'dog804.jpg',\n",
              " 'dog5544.jpg',\n",
              " 'dog5850.jpg',\n",
              " 'dog132.jpg',\n",
              " 'dog1708.jpg',\n",
              " 'dog6778.jpg',\n",
              " 'dog6544.jpg',\n",
              " 'dog8946.jpg',\n",
              " ...]"
            ]
          },
          "metadata": {
            "tags": []
          },
          "execution_count": 19
        }
      ]
    },
    {
      "cell_type": "code",
      "metadata": {
        "id": "HoFI8PiYZdR2",
        "colab_type": "code",
        "outputId": "d9cd853a-2d35-41dc-9f70-b309a5697073",
        "colab": {
          "base_uri": "https://localhost:8080/",
          "height": 287
        }
      },
      "source": [
        "import matplotlib.image as mimg\n",
        "plt.imshow(plt.imread('/data/training/dogs/dog5728.jpg'))"
      ],
      "execution_count": 0,
      "outputs": [
        {
          "output_type": "execute_result",
          "data": {
            "text/plain": [
              "<matplotlib.image.AxesImage at 0x7f7e8b615b00>"
            ]
          },
          "metadata": {
            "tags": []
          },
          "execution_count": 20
        },
        {
          "output_type": "display_data",
          "data": {
            "image/png": "[encoded data removed]",
            "text/plain": [
              "<Figure size 432x288 with 1 Axes>"
            ]
          },
          "metadata": {
            "tags": []
          }
        }
      ]
    },
    {
      "cell_type": "markdown",
      "metadata": {
        "id": "BmbjcWR8ULrz",
        "colab_type": "text"
      },
      "source": [
        "**Splitting the data into training and validation**"
      ]
    },
    {
      "cell_type": "code",
      "metadata": {
        "id": "mpo_7JAUgOFE",
        "colab_type": "code",
        "colab": {}
      },
      "source": [
        "import numpy as np"
      ],
      "execution_count": 0,
      "outputs": []
    },
    {
      "cell_type": "code",
      "metadata": {
        "id": "Ruq7JDquT2cS",
        "colab_type": "code",
        "outputId": "1179933f-cf8e-460f-e9ef-ce6ecf7cd711",
        "colab": {
          "base_uri": "https://localhost:8080/",
          "height": 35
        }
      },
      "source": [
        "(X_train, Y_train) = ((np.array(training_images)), np.array(training_labels))\n",
        "(X_validation, Y_validation) = ((np.array(validation_images)), np.array(validation_labels))\n",
        "X_train.shape, X_validation.shape, Y_train.shape, Y_validation.shape"
      ],
      "execution_count": 0,
      "outputs": [
        {
          "output_type": "execute_result",
          "data": {
            "text/plain": [
              "((19998, 200, 200, 3), (5000, 200, 200, 3), (19998,), (5000,))"
            ]
          },
          "metadata": {
            "tags": []
          },
          "execution_count": 22
        }
      ]
    },
    {
      "cell_type": "code",
      "metadata": {
        "id": "jDxIJtLcT2hi",
        "colab_type": "code",
        "outputId": "e93b3406-8893-4031-fd19-096319177883",
        "colab": {
          "base_uri": "https://localhost:8080/",
          "height": 35
        }
      },
      "source": [
        "Y_train = Y_train.reshape((Y_train.shape[0], 1))\n",
        "Y_validation = Y_validation.reshape((Y_validation.shape[0], 1))\n",
        "Y_train.shape, Y_validation.shape"
      ],
      "execution_count": 0,
      "outputs": [
        {
          "output_type": "execute_result",
          "data": {
            "text/plain": [
              "((19998, 1), (5000, 1))"
            ]
          },
          "metadata": {
            "tags": []
          },
          "execution_count": 23
        }
      ]
    },
    {
      "cell_type": "code",
      "metadata": {
        "id": "1E0u8eEZgd4i",
        "colab_type": "code",
        "colab": {}
      },
      "source": [
        "X_train = X_train.astype('float32')\n",
        "X_validation = X_validation.astype('float32')"
      ],
      "execution_count": 0,
      "outputs": []
    },
    {
      "cell_type": "code",
      "metadata": {
        "id": "_e6uSporg2wu",
        "colab_type": "code",
        "colab": {}
      },
      "source": [
        "X_train /= 255"
      ],
      "execution_count": 0,
      "outputs": []
    },
    {
      "cell_type": "code",
      "metadata": {
        "id": "_ceUJZJyh57N",
        "colab_type": "code",
        "colab": {}
      },
      "source": [
        "X_validation /= 255"
      ],
      "execution_count": 0,
      "outputs": []
    },
    {
      "cell_type": "markdown",
      "metadata": {
        "id": "8xXQ5sjTii0i",
        "colab_type": "text"
      },
      "source": [
        "**Building CNN Model for Classification**"
      ]
    },
    {
      "cell_type": "code",
      "metadata": {
        "id": "JPDzYt_Jiqsu",
        "colab_type": "code",
        "colab": {}
      },
      "source": [
        "import tensorflow as tf"
      ],
      "execution_count": 0,
      "outputs": []
    },
    {
      "cell_type": "code",
      "metadata": {
        "id": "2qJM9k5x-sKC",
        "colab_type": "code",
        "colab": {}
      },
      "source": [
        "from tensorflow import keras"
      ],
      "execution_count": 0,
      "outputs": []
    },
    {
      "cell_type": "code",
      "metadata": {
        "id": "JCEnyJAOiwS1",
        "colab_type": "code",
        "colab": {}
      },
      "source": [
        "from tensorflow.keras.models import Sequential\n",
        "from tensorflow.keras.layers import Conv2D, Flatten, Dense, MaxPool2D, BatchNormalization, Dropout"
      ],
      "execution_count": 0,
      "outputs": []
    },
    {
      "cell_type": "code",
      "metadata": {
        "id": "aDDhYasrkePi",
        "colab_type": "code",
        "colab": {}
      },
      "source": [
        "from tensorflow.keras.optimizers import Adam, SGD\n",
        "from tensorflow.keras.preprocessing.image import ImageDataGenerator"
      ],
      "execution_count": 0,
      "outputs": []
    },
    {
      "cell_type": "code",
      "metadata": {
        "id": "dELR_FN1jkai",
        "colab_type": "code",
        "outputId": "9cd5c1d1-6c0e-4061-d4f3-e7bad098181c",
        "colab": {
          "base_uri": "https://localhost:8080/",
          "height": 35
        }
      },
      "source": [
        "img_rows = X_train[0].shape[0]\n",
        "img_cols = X_train[0].shape[1]\n",
        "(img_rows, img_cols)"
      ],
      "execution_count": 0,
      "outputs": [
        {
          "output_type": "execute_result",
          "data": {
            "text/plain": [
              "(200, 200)"
            ]
          },
          "metadata": {
            "tags": []
          },
          "execution_count": 31
        }
      ]
    },
    {
      "cell_type": "code",
      "metadata": {
        "id": "RbnAzr-ujPIu",
        "colab_type": "code",
        "colab": {}
      },
      "source": [
        "def define_model():\n",
        "  model = Sequential()\n",
        "\n",
        "  model.add(Conv2D(32, (3, 3), activation='relu', padding='same',kernel_initializer='he_uniform', input_shape = (img_rows, img_cols, 3)))\n",
        "  model.add(BatchNormalization())\n",
        "  model.add(MaxPool2D((2, 2)))\n",
        "\n",
        "  model.add(Conv2D(64, (3, 3), activation='relu', padding='valid'))\n",
        "  model.add(BatchNormalization())\n",
        "  model.add(MaxPool2D((2, 2)))\n",
        "\n",
        "  model.add(Conv2D(128, (3, 3), activation='relu', padding='valid'))\n",
        "  model.add(BatchNormalization())\n",
        "  model.add(MaxPool2D((2, 2)))\n",
        "\n",
        "\n",
        "  model.add(Flatten())\n",
        "  model.add(Dense(128,activation = 'relu',kernel_initializer='he_uniform'))\n",
        "  model.add(Dense(1, activation='sigmoid'))\n",
        "\n",
        "  opt = Adam(learning_rate=0.00005)\n",
        "  model.compile(optimizer = opt, loss = 'binary_crossentropy', metrics = ['accuracy'])\n",
        "  return model"
      ],
      "execution_count": 0,
      "outputs": []
    },
    {
      "cell_type": "code",
      "metadata": {
        "id": "RjxIrvebk0vj",
        "colab_type": "code",
        "colab": {}
      },
      "source": [
        "train_datagen = ImageDataGenerator(rescale=1./255, shear_range=0.2, zoom_range=0.2, horizontal_flip=True)\n",
        "test_datagen = ImageDataGenerator(rescale=1./255)"
      ],
      "execution_count": 0,
      "outputs": []
    },
    {
      "cell_type": "code",
      "metadata": {
        "id": "uy4_ZkJ-l4Pt",
        "colab_type": "code",
        "outputId": "cbd2f7d3-9143-485a-8f87-31890bdb1df4",
        "colab": {
          "base_uri": "https://localhost:8080/",
          "height": 54
        }
      },
      "source": [
        "train_generator = train_datagen.flow_from_directory('/data/training/',target_size=(img_rows, img_cols),batch_size=32, class_mode='binary')\n",
        "test_generator = test_datagen.flow_from_directory('/data/validation/', target_size=(img_rows, img_cols), batch_size=32, class_mode='binary')"
      ],
      "execution_count": 0,
      "outputs": [
        {
          "output_type": "stream",
          "text": [
            "Found 19998 images belonging to 2 classes.\n",
            "Found 5000 images belonging to 2 classes.\n"
          ],
          "name": "stdout"
        }
      ]
    },
    {
      "cell_type": "code",
      "metadata": {
        "id": "wHYk5e_NnXV6",
        "colab_type": "code",
        "colab": {}
      },
      "source": [
        "model = define_model()"
      ],
      "execution_count": 0,
      "outputs": []
    },
    {
      "cell_type": "code",
      "metadata": {
        "id": "q5Eic2Ryq2Zj",
        "colab_type": "code",
        "colab": {}
      },
      "source": [
        "from tensorflow.keras.callbacks import ModelCheckpoint,EarlyStopping,ReduceLROnPlateau"
      ],
      "execution_count": 0,
      "outputs": []
    },
    {
      "cell_type": "code",
      "metadata": {
        "id": "J6e5RZLAq82_",
        "colab_type": "code",
        "colab": {}
      },
      "source": [
        "checkpoint = ModelCheckpoint(\"/data/cnn_model1.h5\",monitor='val_loss',verbose=1,save_best_only=True,mode='min')\n",
        "earlystop = EarlyStopping(monitor='val_loss',min_delta=0,patience=3,verbose=1,restore_best_weights=True)\n",
        "reduce_lr = ReduceLROnPlateau(monitor='val_loss',factor=0.2,patience=3,verbose=1,min_delta=0.0001)\n",
        "cb=[checkpoint, earlystop, reduce_lr]"
      ],
      "execution_count": 0,
      "outputs": []
    },
    {
      "cell_type": "code",
      "metadata": {
        "id": "ut5n8TvgmhU8",
        "colab_type": "code",
        "outputId": "29e49e69-be03-4908-b57f-f7a2a1153f8c",
        "colab": {
          "base_uri": "https://localhost:8080/",
          "height": 899
        }
      },
      "source": [
        "history = model.fit_generator(train_generator, steps_per_epoch = len(train_generator), validation_data = test_generator, validation_steps = len(test_generator), epochs = 50,callbacks=cb)"
      ],
      "execution_count": 0,
      "outputs": [
        {
          "output_type": "stream",
          "text": [
            "Epoch 1/50\n",
            "624/625 [============================>.] - ETA: 0s - loss: 0.5737 - accuracy: 0.7095\n",
            "Epoch 00001: val_loss improved from inf to 0.49820, saving model to /data/cnn_model1.h5\n",
            "625/625 [==============================] - 436s 698ms/step - loss: 0.5732 - accuracy: 0.7098 - val_loss: 0.4982 - val_accuracy: 0.7588\n",
            "Epoch 2/50\n",
            "624/625 [============================>.] - ETA: 0s - loss: 0.4619 - accuracy: 0.7808\n",
            "Epoch 00002: val_loss improved from 0.49820 to 0.44346, saving model to /data/cnn_model1.h5\n",
            "625/625 [==============================] - 438s 701ms/step - loss: 0.4619 - accuracy: 0.7809 - val_loss: 0.4435 - val_accuracy: 0.7948\n",
            "Epoch 3/50\n",
            "624/625 [============================>.] - ETA: 0s - loss: 0.4169 - accuracy: 0.8079\n",
            "Epoch 00003: val_loss improved from 0.44346 to 0.43326, saving model to /data/cnn_model1.h5\n",
            "625/625 [==============================] - 436s 698ms/step - loss: 0.4168 - accuracy: 0.8080 - val_loss: 0.4333 - val_accuracy: 0.7964\n",
            "Epoch 4/50\n",
            "624/625 [============================>.] - ETA: 0s - loss: 0.3831 - accuracy: 0.8285\n",
            "Epoch 00004: val_loss improved from 0.43326 to 0.41832, saving model to /data/cnn_model1.h5\n",
            "625/625 [==============================] - 437s 699ms/step - loss: 0.3831 - accuracy: 0.8284 - val_loss: 0.4183 - val_accuracy: 0.8142\n",
            "Epoch 5/50\n",
            "624/625 [============================>.] - ETA: 0s - loss: 0.3564 - accuracy: 0.8445\n",
            "Epoch 00005: val_loss improved from 0.41832 to 0.41246, saving model to /data/cnn_model1.h5\n",
            "625/625 [==============================] - 439s 702ms/step - loss: 0.3563 - accuracy: 0.8445 - val_loss: 0.4125 - val_accuracy: 0.8174\n",
            "Epoch 6/50\n",
            "624/625 [============================>.] - ETA: 0s - loss: 0.3353 - accuracy: 0.8544\n",
            "Epoch 00006: val_loss improved from 0.41246 to 0.40453, saving model to /data/cnn_model1.h5\n",
            "625/625 [==============================] - 439s 703ms/step - loss: 0.3351 - accuracy: 0.8545 - val_loss: 0.4045 - val_accuracy: 0.8206\n",
            "Epoch 7/50\n",
            "624/625 [============================>.] - ETA: 0s - loss: 0.3106 - accuracy: 0.8630\n",
            "Epoch 00007: val_loss improved from 0.40453 to 0.38901, saving model to /data/cnn_model1.h5\n",
            "625/625 [==============================] - 436s 698ms/step - loss: 0.3104 - accuracy: 0.8631 - val_loss: 0.3890 - val_accuracy: 0.8324\n",
            "Epoch 8/50\n",
            "624/625 [============================>.] - ETA: 0s - loss: 0.2963 - accuracy: 0.8726\n",
            "Epoch 00008: val_loss improved from 0.38901 to 0.37229, saving model to /data/cnn_model1.h5\n",
            "625/625 [==============================] - 440s 703ms/step - loss: 0.2965 - accuracy: 0.8724 - val_loss: 0.3723 - val_accuracy: 0.8356\n",
            "Epoch 9/50\n",
            "624/625 [============================>.] - ETA: 0s - loss: 0.2725 - accuracy: 0.8841\n",
            "Epoch 00009: val_loss did not improve from 0.37229\n",
            "625/625 [==============================] - 441s 706ms/step - loss: 0.2724 - accuracy: 0.8840 - val_loss: 0.3843 - val_accuracy: 0.8358\n",
            "Epoch 10/50\n",
            "624/625 [============================>.] - ETA: 0s - loss: 0.2551 - accuracy: 0.8915\n",
            "Epoch 00010: val_loss did not improve from 0.37229\n",
            "625/625 [==============================] - 441s 706ms/step - loss: 0.2550 - accuracy: 0.8915 - val_loss: 0.3730 - val_accuracy: 0.8390\n",
            "Epoch 11/50\n",
            "624/625 [============================>.] - ETA: 0s - loss: 0.2347 - accuracy: 0.9013\n",
            "Epoch 00011: val_loss did not improve from 0.37229\n",
            "Restoring model weights from the end of the best epoch.\n",
            "\n",
            "Epoch 00011: ReduceLROnPlateau reducing learning rate to 9.999999747378752e-06.\n",
            "625/625 [==============================] - 441s 706ms/step - loss: 0.2345 - accuracy: 0.9013 - val_loss: 0.4051 - val_accuracy: 0.8386\n",
            "Epoch 00011: early stopping\n"
          ],
          "name": "stdout"
        }
      ]
    },
    {
      "cell_type": "code",
      "metadata": {
        "id": "PU5Ssk2aBc3Y",
        "colab_type": "code",
        "colab": {}
      },
      "source": [
        ""
      ],
      "execution_count": 0,
      "outputs": []
    }
  ]
}